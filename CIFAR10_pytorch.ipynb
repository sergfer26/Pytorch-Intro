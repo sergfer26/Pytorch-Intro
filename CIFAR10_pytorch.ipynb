{
 "cells": [
  {
   "cell_type": "markdown",
   "metadata": {},
   "source": [
    "# Un primer acercamineto a Pytorch\n",
    "\n",
    "Pytorch es un framework libre y de open source para la implementación de modelos de Deep Learning. Fue desarrollado principalmenete por el laboratorio de investigación de inteligencia artificial de Facebook (FAIR) y fue liberado en octubre del 2016. Ha sido ampliamente usado en Visión por Computadora, Procesamiento de Lenguaje Natural, Reinforcement Learning, entre otros temas. \n",
    "\n",
    "Entre las características que tiene Pytorch, destacan las siguientes: \n",
    "\n",
    "   * El uso de ``torch``, que es una biblioteca optimizada para el computo tensorial, similar a Numpy, basado en el lenguaje de programación Lua. La gran ventaja de esta biblioteca es que puede ser operada desde CUDA para hacer uso de un GPU Nvidia. \n",
    "   \n",
    "   * El uso explícito de la diferenciación automática. Es posible dar seguimiento a las operaciones numéricas realizadas y después calcular los gradientes en cada paso, esta es una herraminta muy útil en el proceso de *Backward propagation* en el entrenaminto de redes neuronales.\n",
    "   \n",
    "En su sitio web ofrecen más información del framework, también hay foros de discusión, tutoriales entre otras cosas: \n",
    "https://pytorch.org. Además en la página web da la opción de descargar el libro *DEEP LEARNING WITH PYTORCH* de forma gratiuta, la dirección la puedes encontar [aquí](https://pytorch.org/deep-learning-with-pytorch). El libro permite aprender las partes escenciales del framework y concepetos relacionados con Deep Learning.\n",
    "\n",
    "Ahora usaremos pytorch para hacer un clasificador para el conjuto de imágenes CIFAR10. Nos basaremos en el tutorial que puede encontrar [aquí](https://pytorch.org/tutorials/beginner/blitz/cifar10_tutorial.html).\n",
    "\n",
    "Antes de empezar, será necesario introducir los siguientes módulos:\n",
    "\n",
    "* ``torch``: puede encontrar ejemplos del uso de torch en el notebook [pytorch_basics](pytorch_basics.ipynb).\n",
    "* ``torch.nn``: consite de los modelos y funciones usados en la red neuronal, puede encontrar ejemplos del módulo en el notebook [pytorch_nn](pytorch_nn.ipynb).\n",
    "* ``torchvison``: consite datasets populares, arquitecturas populares y transformaciones para visión por computadora\n",
    "(``transforms``).\n",
    "\n",
    "Será necesario instalar las siguientes bibliotecas: \n",
    "\n",
    "* torch\n",
    "* torchvision\n",
    "* tqdm"
   ]
  },
  {
   "cell_type": "code",
   "execution_count": 1,
   "metadata": {},
   "outputs": [],
   "source": [
    "import torch\n",
    "import torchvision \n",
    "import torchvision.transforms as t"
   ]
  },
  {
   "cell_type": "markdown",
   "metadata": {},
   "source": [
    "### CPU vs GPU\n",
    "\n",
    "Pytorch permite hacer uso del CPU de forma predeterminda o GPU, si este existe y el usario selecciona la opción de usarlo. Para hacer uso del GPU sólo es necesario ejecutar la instrucción siguiente:"
   ]
  },
  {
   "cell_type": "code",
   "execution_count": 2,
   "metadata": {},
   "outputs": [
    {
     "name": "stdout",
     "output_type": "stream",
     "text": [
      "cpu\n"
     ]
    }
   ],
   "source": [
    "device = \"cpu\"\n",
    "\n",
    "if torch.cuda.is_available():\n",
    "    device = \"cuda\"\n",
    "\n",
    "print(device)"
   ]
  },
  {
   "cell_type": "markdown",
   "metadata": {},
   "source": [
    "**Nota:** Si no se tiene CPU se dejará indicado que se usará el CPU. Si no se quiere usar el GPU basta con omitir la instrucción anterior salvo la indicación ``device = \"cpu\"``."
   ]
  },
  {
   "cell_type": "markdown",
   "metadata": {},
   "source": [
    "## Preparación y Normalización de datos \n",
    "\n",
    "La siguiente instrucción corresponde al almacenaminto y normalización de los datos. Note que el conjunto de datos proviene de ``torchvision.datasets`` y esta biblioteca, por defecto, ya tiene separados los datos de entrenamiento y prueba, basta con indicarlo."
   ]
  },
  {
   "cell_type": "code",
   "execution_count": 3,
   "metadata": {},
   "outputs": [
    {
     "name": "stdout",
     "output_type": "stream",
     "text": [
      "Downloading https://www.cs.toronto.edu/~kriz/cifar-10-python.tar.gz to ./data/cifar-10-python.tar.gz\n"
     ]
    },
    {
     "data": {
      "application/vnd.jupyter.widget-view+json": {
       "model_id": "e87ada06f94346e29d5662963e07418e",
       "version_major": 2,
       "version_minor": 0
      },
      "text/plain": [
       "HBox(children=(FloatProgress(value=1.0, bar_style='info', max=1.0), HTML(value='')))"
      ]
     },
     "metadata": {},
     "output_type": "display_data"
    },
    {
     "name": "stdout",
     "output_type": "stream",
     "text": [
      "Failed download. Trying https -> http instead. Downloading http://www.cs.toronto.edu/~kriz/cifar-10-python.tar.gz to ./data/cifar-10-python.tar.gz\n"
     ]
    },
    {
     "data": {
      "application/vnd.jupyter.widget-view+json": {
       "model_id": "0aa5802717244454a91fa9ebc3cc98fe",
       "version_major": 2,
       "version_minor": 0
      },
      "text/plain": [
       "HBox(children=(FloatProgress(value=1.0, bar_style='info', max=1.0), HTML(value='')))"
      ]
     },
     "metadata": {},
     "output_type": "display_data"
    },
    {
     "name": "stdout",
     "output_type": "stream",
     "text": [
      "Extracting ./data/cifar-10-python.tar.gz to ./data\n",
      "Files already downloaded and verified\n"
     ]
    }
   ],
   "source": [
    "transform = t.Compose([t.ToTensor(), \n",
    "                      t.Normalize((0.5, 0.5, 0.5), (0.5, 0.5, 0.5))])\n",
    "\n",
    "trainset = torchvision.datasets.CIFAR10(root='./data', train=True, \n",
    "                                       download=True, transform=transform)\n",
    "testset = torchvision.datasets.CIFAR10(root='./data', train=False, \n",
    "                                       download=True, transform=transform)\n"
   ]
  },
  {
   "cell_type": "markdown",
   "metadata": {},
   "source": [
    "En la siguiente instrucción, se procede a separar los datos de entrenamiento en los datos que usaremos para entrenar y para validar."
   ]
  },
  {
   "cell_type": "code",
   "execution_count": 4,
   "metadata": {},
   "outputs": [],
   "source": [
    "import numpy as np\n",
    "\n",
    "valid_size = 0.2 # parte para validar\n",
    "n = len(trainset)\n",
    "indices = list(range(n))\n",
    "np.random.shuffle(indices) # revolvemos los indices\n",
    "split = int(np.floor(valid_size * n)) \n",
    "train_idx, valid_idx = indices[split:], indices[:split] # seprarmos los indices\n",
    "\n",
    "train_set = torch.utils.data.Subset(trainset, train_idx) # tomamos un subconjunto de acuerdo a los indices\n",
    "val_set = torch.utils.data.Subset(trainset, valid_idx)\n",
    "n_train = len(train_set)\n",
    "n_val = len(val_set) "
   ]
  },
  {
   "cell_type": "markdown",
   "metadata": {},
   "source": [
    "Ahora le damos una estructura a los datos, es decir, los preparemos para el entrenamiento, indicaremos el ``batch_size``, no estarán ordenados. Para ello creamos un objeto del tipo ``DataLoader`` a paritr de un conjunto dado  que nos permitirá hacer lo anteriormente mencionado. Puede consultar más información sobre ``DataLoader`` [aquí](https://pytorch.org/docs/stable/data.html)."
   ]
  },
  {
   "cell_type": "code",
   "execution_count": 5,
   "metadata": {},
   "outputs": [],
   "source": [
    "train_loader = torch.utils.data.DataLoader(trainset, batch_size=32,\n",
    "                                         shuffle=True, num_workers=2)\n",
    "\n",
    "val_loader = torch.utils.data.DataLoader(trainset, batch_size=32,\n",
    "                                         shuffle=True, num_workers=2)\n",
    "\n",
    "test_loader = torch.utils.data.DataLoader(testset, batch_size=len(testset), \n",
    "                                        shuffle=False, num_workers=2)\n",
    "\n",
    "classes = ['plane', 'car', 'bird', 'cat', 'deer', 'dog', 'frog', 'horse', \n",
    "         'ship', 'truck']"
   ]
  },
  {
   "cell_type": "markdown",
   "metadata": {},
   "source": [
    "## Exploración y análisis del Dataset\n",
    "\n",
    "Veamos las dimensiones de las muestras."
   ]
  },
  {
   "cell_type": "code",
   "execution_count": 6,
   "metadata": {},
   "outputs": [],
   "source": [
    "dataiter = iter(train_loader)\n",
    "images, labels = dataiter.next()"
   ]
  },
  {
   "cell_type": "code",
   "execution_count": 7,
   "metadata": {},
   "outputs": [
    {
     "name": "stdout",
     "output_type": "stream",
     "text": [
      "torch.Size([32, 3, 32, 32])\n",
      "torch.Size([32])\n"
     ]
    }
   ],
   "source": [
    "print(images.shape)\n",
    "print(labels.shape)"
   ]
  },
  {
   "cell_type": "markdown",
   "metadata": {},
   "source": [
    "Veamos como es una muestra del datast."
   ]
  },
  {
   "cell_type": "code",
   "execution_count": 8,
   "metadata": {},
   "outputs": [
    {
     "data": {
      "image/png": "[encoded data removed]",
      "text/plain": [
       "<Figure size 432x288 with 1 Axes>"
      ]
     },
     "metadata": {
      "needs_background": "light"
     },
     "output_type": "display_data"
    },
    {
     "name": "stdout",
     "output_type": "stream",
     "text": [
      "class:  frog\n"
     ]
    }
   ],
   "source": [
    "\n",
    "import matplotlib.pyplot as plt\n",
    "import numpy as np\n",
    "\n",
    "def show_image(img):\n",
    "    np_img = img.numpy()\n",
    "    np_img = np.copy(np_img)\n",
    "    np_img /= 2\n",
    "    np_img += 0.5\n",
    "    plt.imshow(np.transpose(np_img, (1, 2, 0)))\n",
    "    plt.show()\n",
    "\n",
    "# show image\n",
    "\n",
    "index = 10\n",
    "show_image(torchvision.utils.make_grid(images[index]))\n",
    "print('class: ', classes[labels[index]])"
   ]
  },
  {
   "cell_type": "markdown",
   "metadata": {},
   "source": [
    "## Definición de la arquitectura de la red neuronal\n",
    "\n",
    "Para este conjunto de datos usaremos una red convolucional. Para ello ocuparemos la clase ``Conv2d``del módulo\n",
    "torch.nn. Como en otros frameworks es necesario definir la estructura de la capa convolucional, al definir la capa es necesario proporcionar los siguientes paramétros: \n",
    "\n",
    "* ``in_channels (int)``: Número de canales que tiene el tensor de entrada. \n",
    "* ``out_channels (int)``: Número de canales producidos por la convolusión.\n",
    "* ``kernel_size (int or tuple)``: Tamaño del kernel.\n",
    "* ``stride (int or tuple, optional)``: Stride de la convolución. Por defecto: 1.\n",
    "* ``padding (int or tuple, optional)``: Padding . Por defecto: 0.\n",
    "* ``padding_mode (string, optional)``: 'zeros', 'reflect', 'replicate' or 'circular'. Por defecto: 'zeros'.\n",
    "* ``dilation (int or tuple, optional)``: Espaciado entre los elementos del kernel. Por defecto: 1.\n",
    "* ``groups (int, optional)``:  Número de conecciones bloqueadas de los caneles de entrada a los de salida. Por defecto: 1.\n",
    "* ``bias (bool, optional)``: Agrega bias. Default: True\n",
    "\n",
    "Puede consultarse la documentación de ``Conv2d`` [aquí](https://pytorch.org/docs/master/generated/torch.nn.Conv2d.html).\n",
    "\n",
    "En la transición de capas convolucionales ocuparemos ``MaxPool2d`` del módulo ``nn.torch``, tiene los siguientes parámetros: \n",
    "\n",
    "* ``kernel_size``: El tamaño de la ventana donde se aplicará el max. \n",
    "\n",
    "* ``stride``: El stride de la ventana. Por defecto es el kernel_size.\n",
    "\n",
    "* ``padding``: implicit zero padding to be added on both sides.\n",
    "\n",
    "* ``dilation``: un parámetro que controla el stride de elementos en la ventana. \n",
    "\n",
    "* ``return_indices``: Es un booleno, si es ``True``, regresa el máximo de indices con las salidas. \n",
    "\n",
    "* ``ceil_mode``:  Es un booleno, si es ``True``, usa la función piso en lugar de la techo para calcular el shape de la salida.\n",
    "\n",
    "Puede consultarse la documentación de ``MaxPool2d`` [aquí](https://pytorch.org/docs/stable/nn.html)."
   ]
  },
  {
   "cell_type": "code",
   "execution_count": 9,
   "metadata": {},
   "outputs": [],
   "source": [
    "import torch.nn as nn\n",
    "import torch.nn.functional as F\n",
    "\n",
    "class myNet(nn.Module):\n",
    "    \n",
    "    def __init__(self):\n",
    "        super(myNet, self).__init__()\n",
    "        self.conv1 = nn.Conv2d(in_channels=3, out_channels=6, kernel_size=5)\n",
    "        self.pool = nn.MaxPool2d(2,2)\n",
    "        self.conv2 = nn.Conv2d(in_channels=6, out_channels=16, kernel_size=5)\n",
    "        self.fc1 = nn.Linear(16 * 5 * 5, 120)\n",
    "        self.fc2 = nn.Linear(120, 84)\n",
    "        self.fc3 = nn.Linear(84, 10)\n",
    "        \n",
    "    def forward(self, x):\n",
    "        x = self.pool(F.relu(self.conv1(x)))\n",
    "        x = self.pool(F.relu(self.conv2(x)))\n",
    "        x = x.view(-1, 16 * 5 * 5)\n",
    "        x = F.relu(self.fc1(x))\n",
    "        x = F.relu(self.fc2(x))\n",
    "        x = self.fc3(x)\n",
    "        return x\n",
    "    \n",
    "net = myNet()"
   ]
  },
  {
   "cell_type": "markdown",
   "metadata": {},
   "source": [
    "## Definición del optimizador y la función de costos"
   ]
  },
  {
   "cell_type": "markdown",
   "metadata": {},
   "source": [
    "Usaremos el módulo ``optim`` de torch para definir el optimizador y usaremos el módulo ``torch.nn`` para definir la función de costos, al tratarse de la tarea de clasificación, usaremos ``CrossEntropyLoss``."
   ]
  },
  {
   "cell_type": "code",
   "execution_count": 10,
   "metadata": {},
   "outputs": [],
   "source": [
    "import torch.optim as optim\n",
    "\n",
    "loss_function = nn.CrossEntropyLoss()\n",
    "optimizer = optim.SGD(net.parameters(), lr=0.001, momentum=0.9)"
   ]
  },
  {
   "cell_type": "markdown",
   "metadata": {},
   "source": [
    "Una gran ventaja de Pytorch sobre otros frameworks es que para las tareas de clasificación multiclase no es necesario emplear la técnica de *one-hot* para las etiquetas, ni es necesario que en la capa de salida del modelo tenga una función de activación *Softmax*. Todo los pasos antes mecionados son usualmente usados para clasificación multiclase y se ha vuelto repetitivo poner cado uno de ellos en el código, el módulo ``torch.nn`` lo hace por nosotros cuando ocupamos la función ``nn.CrossEntropyLoss``, esta es una versión mejorada de la original y va de acuerdo a la siguiente expresión: \n",
    "$$loss(x, class) = -\\log\\left(\\frac{\\exp(x[class])}{\\sum_{j}\\exp(x[j])}\\right) = -x[class] +\\log\\left(\\sum_{j}\\exp(x[j])\\right),$$\n",
    "\n",
    "el input tiene que tener el tamaño $(minibatch, C)$ o $(minibatch, C, d_1, d_2, \\cdots, d_K)$, donde $C$ es la cantidad de clases y $K$ es el número de dimensiones. Observe que se da una composición de la función $Softmax$ con la de $CrossEntropy$ usual."
   ]
  },
  {
   "cell_type": "markdown",
   "metadata": {},
   "source": [
    "## Entrenamiento del modelo"
   ]
  },
  {
   "cell_type": "code",
   "execution_count": 11,
   "metadata": {},
   "outputs": [],
   "source": [
    "import time\n",
    "EPOCHS = 5\n",
    "\n",
    "train_time = 0\n",
    "epoch_loss = []\n",
    "epoch_acc = []\n",
    "val_loss = []\n",
    "val_acc = []"
   ]
  },
  {
   "cell_type": "markdown",
   "metadata": {},
   "source": [
    "### Barra de progreso del entrenamineto\n",
    "\n",
    "En el entrenamiento muchas veces es útil medir el rendimiento del modelo por cada época. Pytorch a diferencia de Keras no nos da una forma de ver el proceso de entrenamiento, en cambio, se tiene que diseñar, esto puedo representar una ventaja si requiere de otro tipo información, pues se puede diseñar un código que vaya de acuerdo a las necidades del problema. En este caso particular, queremos ver la evolución del entrenamiento como en Keras. Una forma estética y sencilla es ocupando  ``tqdm``, que nos permite generar barras de progeso como se muestra a continuación:"
   ]
  },
  {
   "cell_type": "code",
   "execution_count": 12,
   "metadata": {},
   "outputs": [
    {
     "name": "stderr",
     "output_type": "stream",
     "text": [
      "Epoch:   0%|          | 0/3 [00:00<?, ?it/s]\n",
      "Batch:   0%|          | 0/5 [00:00<?, ?it/s]\u001b[A\n",
      "Batch:  40%|████      | 2/5 [00:00<00:00, 885.34it/s]\n",
      "\n",
      "Batch:  40%|████      | 2/5 [00:00<00:00, 808.07it/s]\n"
     ]
    }
   ],
   "source": [
    "import tqdm\n",
    "outer = tqdm.tqdm(total=3, desc='Epoch', position=0)\n",
    "for ii in range(3):\n",
    "    inner = tqdm.tqdm(total=5, desc='Batch', position=1)\n",
    "    for jj in range(2):\n",
    "        #do your training\n",
    "        inner.update(1)\n",
    "    outer.update(1)"
   ]
  },
  {
   "cell_type": "markdown",
   "metadata": {},
   "source": [
    "El ejemplo anterior fue tomado de [aquí](https://medium.com/@philipplies/progress-bar-and-status-logging-in-python-with-tqdm-35ce29b908f5).\n",
    "\n",
    "Estas barras son personalizables y puede consultarse la documentación [aquí](https://pypi.org/project/tqdm/).\n",
    "\n",
    "Para este ejemplo usaremos un estructura similar a la proporcionada por Keras.\n",
    "\n",
    "### Ciclo de entrenamiento\n",
    "\n",
    "La siguiente función representa el ciclo de entrenamiento, donde se evalúan las muestras, se predicen las etiquetas, se hace se backpropagation (en caso de que no se haga validación) y finalmente se mide el rendimiento del modelo en cada iteración. \n",
    "\n",
    "Es importante notar que en el entrenamiento se tiene que considerar los siguientes elementos:\n",
    "\n",
    "* ``model.eval()``: notifica a todas las capas que el modelo será evaluado, es decir que el modelo estará en el proceso de validación.\n",
    "\n",
    "* ``optimizer.zero_grad``: \"limpia\" el gradiente de la iteración anterior.\n",
    "    \n",
    "* ``loss.backward()``:cálcula las derivadas de la función de costos con respecto a los parametros del modelo.\n",
    "\n",
    "* ``optimizer.step()``: da el paso de la optimización en la dirección del gradiente. "
   ]
  },
  {
   "cell_type": "code",
   "execution_count": 13,
   "metadata": {},
   "outputs": [],
   "source": [
    "from tqdm import tqdm \n",
    "\n",
    "def training_loop(train_loader, model, optimizer, loss_function, pbar, valid=False):\n",
    "    running_loss = 0.0\n",
    "    correct = 0\n",
    "    total = 0\n",
    "    if valid: \n",
    "        model.eval()\n",
    "    for i, data in enumerate(train_loader, 0):\n",
    "        X, Y = data\n",
    "        X = X.to(device) # indicamos que se usaran en el gpu, si device='gpu'\n",
    "        Y = Y.to(device) # indicamos que se usaran en el gpu, si device='gpu'\n",
    "        if not valid:\n",
    "            optimizer.zero_grad()\n",
    "            \n",
    "        pred = model(X)\n",
    "        loss = loss_function(pred, Y)\n",
    "        if not valid:\n",
    "            loss.backward() \n",
    "            optimizer.step()\n",
    "            \n",
    "        running_loss += loss.item()\n",
    "        \n",
    "        avg_loss = running_loss/(i + 1)\n",
    "        \n",
    "        probs = F.softmax(pred, 1)\n",
    "        label = torch.argmax(probs, dim=1)\n",
    "        correct += torch.sum(label == Y).item()\n",
    "        total += Y.shape[0]\n",
    "        acc = correct/total\n",
    "        \n",
    "        pbar.set_postfix(avg_loss='{:.4f}'.format(avg_loss), acc='{:.4f}'.format(acc))\n",
    "        pbar.update(Y.shape[0])\n",
    "        \n",
    "    return avg_loss, acc"
   ]
  },
  {
   "cell_type": "markdown",
   "metadata": {},
   "source": [
    "Por cada época que se tenga se llamará una vez a la función anterior para entrenamiento y una segunda vez para validación. Integramos la tareas anteriores en el siguiente ciclo:"
   ]
  },
  {
   "cell_type": "markdown",
   "metadata": {},
   "source": [
    "\n",
    "for epoch in range(EPOCHS):\n",
    "    start_time = time.time()\n",
    "    with tqdm(total = n_train, position=0) as pbar_train:\n",
    "        pbar_train.set_description(f'Epoch {epoch + 1}/'+str(EPOCHS)+' - training')\n",
    "        pbar_train.set_postfix(avg_loss='0.0', acc='0.0')\n",
    "        loss_train, acc_train = training_loop(train_loader, net, optimizer, loss_function, pbar_train, valid=False)\n",
    "        train_time +=  time.time() - start_time\n",
    "    with tqdm(total = n_val, position=0) as pbar_val:\n",
    "        pbar_val.set_description(f'Epoch {epoch +1}/'+str(EPOCHS)+' - validation')\n",
    "        pbar_val.set_postfix(avg_loss='0.0', acc='0.0')\n",
    "        loss_val, acc_val = training_loop(val_loader, net, None, loss_function, pbar_val, valid=True)\n",
    "    \n",
    "    epoch_loss.append(loss_train)\n",
    "    epoch_acc.append(acc_train)\n",
    "    val_loss.append(loss_val)\n",
    "    val_acc.append(acc_val)\n",
    "\n",
    "print(\"--- %s minutes ---\", train_time)"
   ]
  },
  {
   "cell_type": "code",
   "execution_count": 14,
   "metadata": {},
   "outputs": [
    {
     "name": "stderr",
     "output_type": "stream",
     "text": [
      "Epoch 1/5 - training: : 50000it [00:14, 3367.24it/s, acc=0.1786, avg_loss=2.2479]                         \n",
      "Epoch 1/5 - validation: : 50000it [00:09, 5330.95it/s, acc=0.2584, avg_loss=2.0296]                        \n",
      "Epoch 2/5 - training: : 50000it [00:15, 3156.11it/s, acc=0.3267, avg_loss=1.8495]                         \n",
      "Epoch 2/5 - validation: : 50000it [00:09, 5199.52it/s, acc=0.3831, avg_loss=1.6755]                        \n",
      "Epoch 3/5 - training: : 50000it [00:16, 3114.53it/s, acc=0.4175, avg_loss=1.5957]                         \n",
      "Epoch 3/5 - validation: : 50000it [00:09, 5157.84it/s, acc=0.4420, avg_loss=1.5251]                        \n",
      "Epoch 4/5 - training: : 50000it [00:16, 3077.03it/s, acc=0.4678, avg_loss=1.4705]                         \n",
      "Epoch 4/5 - validation: : 50000it [00:09, 5172.30it/s, acc=0.4861, avg_loss=1.4351]                        \n",
      "Epoch 5/5 - training: : 50000it [00:16, 3058.79it/s, acc=0.5079, avg_loss=1.3696]                         \n",
      "Epoch 5/5 - validation: : 50000it [00:09, 5091.32it/s, acc=0.5242, avg_loss=1.3149]                        "
     ]
    },
    {
     "name": "stdout",
     "output_type": "stream",
     "text": [
      "--- %s minutes --- 79.34371757507324\n"
     ]
    },
    {
     "name": "stderr",
     "output_type": "stream",
     "text": [
      "\n"
     ]
    }
   ],
   "source": [
    "\n",
    "for epoch in range(EPOCHS):\n",
    "    start_time = time.time()\n",
    "    with tqdm(total = n_train, position=0) as pbar_train:\n",
    "        pbar_train.set_description(f'Epoch {epoch + 1}/'+str(EPOCHS)+' - training')\n",
    "        pbar_train.set_postfix(avg_loss='0.0', acc='0.0')\n",
    "        loss_train, acc_train = training_loop(train_loader, net, optimizer, loss_function, pbar_train, valid=False)\n",
    "        train_time +=  time.time() - start_time\n",
    "    with tqdm(total = n_val, position=0) as pbar_val:\n",
    "        pbar_val.set_description(f'Epoch {epoch +1}/'+str(EPOCHS)+' - validation')\n",
    "        pbar_val.set_postfix(avg_loss='0.0', acc='0.0')\n",
    "        loss_val, acc_val = training_loop(val_loader, net, None, loss_function, pbar_val, valid=True)\n",
    "    \n",
    "    epoch_loss.append(loss_train)\n",
    "    epoch_acc.append(acc_train)\n",
    "    val_loss.append(loss_val)\n",
    "    val_acc.append(acc_val)\n",
    "\n",
    "print(\"--- %s minutes ---\", train_time)"
   ]
  },
  {
   "cell_type": "markdown",
   "metadata": {},
   "source": [
    "### Rendimiento del modelo\n",
    "\n",
    "Es una buena conveción graficar el rendimiento del modelo en cada época. En este caso presentamos la evolución de precisión y el costo en cada época."
   ]
  },
  {
   "cell_type": "code",
   "execution_count": 15,
   "metadata": {},
   "outputs": [
    {
     "data": {
      "image/png": "[encoded data removed]",
      "text/plain": [
       "<Figure size 432x288 with 1 Axes>"
      ]
     },
     "metadata": {
      "needs_background": "light"
     },
     "output_type": "display_data"
    }
   ],
   "source": [
    "import matplotlib.pyplot as plt\n",
    "\n",
    "plt.plot(epoch_acc)\n",
    "plt.plot(val_acc)\n",
    "plt.title('model accuracy')\n",
    "plt.ylabel('accuracy')\n",
    "plt.xlabel('epoch')\n",
    "plt.legend(['train', 'test'], loc='upper left')\n",
    "plt.show()"
   ]
  },
  {
   "cell_type": "code",
   "execution_count": 16,
   "metadata": {},
   "outputs": [
    {
     "data": {
      "image/png": "[encoded data removed]",
      "text/plain": [
       "<Figure size 432x288 with 1 Axes>"
      ]
     },
     "metadata": {
      "needs_background": "light"
     },
     "output_type": "display_data"
    }
   ],
   "source": [
    "plt.plot(epoch_loss)\n",
    "plt.plot(val_loss)\n",
    "plt.title('model loss')\n",
    "plt.ylabel('loss')\n",
    "plt.xlabel('epoch')\n",
    "plt.legend(['train', 'test'], loc='upper left')\n",
    "plt.show()"
   ]
  },
  {
   "cell_type": "markdown",
   "metadata": {},
   "source": [
    "## Prueba del modelo"
   ]
  },
  {
   "cell_type": "markdown",
   "metadata": {},
   "source": [
    "data = iter(test_loader)\n",
    "images, labels = data.next()\n",
    "show_image(torchvision.utils.make_grid(images))\n",
    "print('GroundTruth: ',''.join('%5s' % classes[labels[j]] for j in range(4)))"
   ]
  },
  {
   "cell_type": "code",
   "execution_count": 17,
   "metadata": {},
   "outputs": [],
   "source": [
    "for i, data in enumerate(test_loader, 0):\n",
    "    X, Y = data\n",
    "    X = X.to(device)\n",
    "    Y = Y.to(device)    \n",
    "    pred = net(X)\n",
    "    loss = loss_function(pred, Y)    \n",
    "    # running_loss += loss.item()\n",
    "    # avg_loss = running_loss/(i + 1)\n",
    "    probs = F.softmax(pred, 1)\n",
    "    label = torch.argmax(probs, dim=1)\n",
    "    correct = torch.sum(label == Y).item()\n",
    "    total = Y.shape[0]\n",
    "    acc = correct/total"
   ]
  },
  {
   "cell_type": "code",
   "execution_count": 18,
   "metadata": {},
   "outputs": [
    {
     "name": "stdout",
     "output_type": "stream",
     "text": [
      "accuracy: 0.5179, loss: 1.3407162427902222\n"
     ]
    }
   ],
   "source": [
    "print('accuracy: {}, loss: {}'.format(acc, loss))"
   ]
  },
  {
   "cell_type": "markdown",
   "metadata": {},
   "source": [
    "## ¿Pytorch, el framework del futuro?\n",
    "\n",
    "Muchos autores han sugerido que Pytorch es el framework del futuro, en lo personal, no se si es del futuro o representa un gran salto de los otros frameworks. A lo largo de este notebook expusimos varias ventajas del framework, notamos que simplifica muchas tareas que en otros frameworks como Keras eran muy repetitvos. La codifiación y uso de redes neuronales en Pytorch muestra de forma más explicita el uso de graficas computacionales, así como el proceso de backpropagation es más claro. \n",
    "\n",
    "Si bien la codificación no es tan simple como en Keras, es cierto que escribir código con Pytorch resulta muy Pytonico  y tiene muy buena integración con otras bibliotecas como veremos más adelante en *oxflower_pytorch.ipynb*.\n",
    "\n",
    "Las ventajas computacionales sobre otros frameworks y características que podemos mencionar son las siguientes:\n",
    "\n",
    "* Según los resultados del estudio [Deep Learning Frameworks Speed Comparison](https://wrosinski.github.io/deep-learning-frameworks/), se encontro que Pytorch resulto más rápido en varias tareas que Tensorflow. Se comparo el desempeño a partir de la implementación de varios modelos.\n",
    "\n",
    "* Uno de los razgos principales de Pytorch es el llamadao *declarative data parallelism*. Esto permite usar ``Pytorch.nn.DataParallel`` que puede envolver cualquier módulo. Esto permite hacer paralelizble el entrenamiento y hacer uso de varios GPUs.\n",
    "\n",
    "![Comparación de velocidad con Keras y Tensorflow](CIFAR10_pytorch/Comparison.png)\n"
   ]
  },
  {
   "cell_type": "markdown",
   "metadata": {},
   "source": [
    "## Guardar el modelo"
   ]
  },
  {
   "cell_type": "code",
   "execution_count": 20,
   "metadata": {},
   "outputs": [],
   "source": [
    "torch.save(net.state_dict(), 'CIFAR10_pytorch/model/net.json') "
   ]
  }
 ],
 "metadata": {
  "kernelspec": {
   "display_name": "Python 3",
   "language": "python",
   "name": "python3"
  },
  "language_info": {
   "codemirror_mode": {
    "name": "ipython",
    "version": 3
   },
   "file_extension": ".py",
   "mimetype": "text/x-python",
   "name": "python",
   "nbconvert_exporter": "python",
   "pygments_lexer": "ipython3",
   "version": "3.7.7"
  }
 },
 "nbformat": 4,
 "nbformat_minor": 4
}
