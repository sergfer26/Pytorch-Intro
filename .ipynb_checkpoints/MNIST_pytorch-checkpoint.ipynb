{
 "cells": [
  {
   "cell_type": "markdown",
   "metadata": {},
   "source": [
    "# Handwritten Digit Recognition Using Pytorch \n",
    "\n",
    "En este notebook discutiremos el uso de redes neuronales para desarrollar un clasificador que reconozca digitos hechos a mano. Desarrollaremos de cero un clasificador usando pytorch y el conjuto de datos de MNIST. \n",
    "\n",
    "# Dataset\n",
    "\n",
    "Usaremos la popular base de datos de MNIST. Este conjunto de datos consiste de una colleción de $70,000$ digitos escritos a mano. Pytorch nos ofrece los datos ya preparados y divididos, un $90\\%$ para entrenamiento y el resto para pruba. Esto representa una ventaja pues sólo es necesario escribir unas cuantas lineas de código como se verá después.\n",
    "\n",
    "Usaremos las siguientes bibliotecas:"
   ]
  },
  {
   "cell_type": "code",
   "execution_count": 1,
   "metadata": {},
   "outputs": [],
   "source": [
    "import numpy as np\n",
    "import torch # biblioteca similar a python para manipular tensores\n",
    "import torchvision\n",
    "import matplotlib.pyplot as plt\n",
    "from time import time\n",
    "from torchvision.datasets import MNIST\n",
    "from torchvision import transforms # módulo con transformaciones de tensores\n",
    "from torch import nn, optim # son los modulos de las arquitecturas de redes y los optimizadores, respectivamente\n",
    "import torch.nn.functional as F # módulo para funciones usadas en las redes\n",
    "from torchsummary import summary # muestra la información de un modelo\n",
    "from tqdm import tqdm # nos permite generar barras de progeso para el entrenamiento"
   ]
  },
  {
   "cell_type": "markdown",
   "metadata": {},
   "source": [
    "Definimos la siguiente pipeline de transformaciones para poder alimentar al modelo con los datos en la forma que requiere. Usareamos el módulo ``transforms``."
   ]
  },
  {
   "cell_type": "code",
   "execution_count": 2,
   "metadata": {},
   "outputs": [],
   "source": [
    "transform = transforms.Compose([\n",
    "    transforms.ToTensor(), \n",
    "    transforms.Normalize((0.5,),(0.5,)),\n",
    "])"
   ]
  },
  {
   "cell_type": "markdown",
   "metadata": {},
   "source": [
    "* ``ToTensor()``: Convierte la imagen en arreglos numéricos que entiende la computadora. Separa a cada pixel de la imagen en los canales rojo, verde y azul y le da un valor numérico de acuerdo al brillo que va de 0 a 255. El producto es un tensor que representa a la imagen en ``torch``.\n",
    "\n",
    "* ``Normalize()``: normaliza a las entradas de un tensor con los parametros de media y desviación estandar. \n",
    "\n",
    "Ahora descargaremos la base de datos. "
   ]
  },
  {
   "cell_type": "code",
   "execution_count": 3,
   "metadata": {},
   "outputs": [],
   "source": [
    "trainset = MNIST('PATH_TO_STORE_TRAINSET', \n",
    "                         download=True, train=True, transform=transform)\n",
    "\n",
    "testset = MNIST('PATH_TO_STORE_TRAINSET', \n",
    "                         download=True, train=False, transform=transform)"
   ]
  },
  {
   "cell_type": "code",
   "execution_count": 4,
   "metadata": {},
   "outputs": [
    {
     "data": {
      "text/plain": [
       "10000"
      ]
     },
     "execution_count": 4,
     "metadata": {},
     "output_type": "execute_result"
    }
   ],
   "source": [
    "len(testset)"
   ]
  },
  {
   "cell_type": "markdown",
   "metadata": {},
   "source": [
    "Ahora será ncesario separar una parte del conjunto de entrenamiento para usarlo en la validación:"
   ]
  },
  {
   "cell_type": "code",
   "execution_count": 5,
   "metadata": {},
   "outputs": [],
   "source": [
    "valid_size = 0.2 # parte para validar\n",
    "n = len(trainset)\n",
    "indices = list(range(n))\n",
    "np.random.shuffle(indices) # revolvemos los indices\n",
    "split = int(np.floor(valid_size * n)) \n",
    "train_idx, valid_idx = indices[split:], indices[:split] # seprarmos los indices\n",
    "\n",
    "train_set = torch.utils.data.Subset(trainset, train_idx) # tomamos un subconjunto de acuerdo a los indices\n",
    "val_set = torch.utils.data.Subset(trainset, valid_idx)\n",
    "n_train = len(train_set)\n",
    "n_val = len(val_set) "
   ]
  },
  {
   "cell_type": "markdown",
   "metadata": {},
   "source": [
    "Ya con los conjuntos de datos almacenados y separados para el entrenamiento, validación y prueba, será necesario darles la estructura de un objeto de la clase ``DataLoader``, que permite separar la conjuto de datos por batches y permite crear iteradores simples o multi-proceso sobre el conjunto de datos."
   ]
  },
  {
   "cell_type": "code",
   "execution_count": 6,
   "metadata": {},
   "outputs": [],
   "source": [
    "train_loader = torch.utils.data.DataLoader(train_set,\n",
    "                                          batch_size=32, shuffle=True)\n",
    "\n",
    "val_loader = torch.utils.data.DataLoader(val_set,\n",
    "                                          batch_size=32, shuffle=True)\n",
    "\n",
    "test_loader = torch.utils.data.DataLoader(testset,\n",
    "                                          batch_size=1, shuffle=False)"
   ]
  },
  {
   "cell_type": "code",
   "execution_count": 7,
   "metadata": {},
   "outputs": [
    {
     "data": {
      "text/plain": [
       "10000"
      ]
     },
     "execution_count": 7,
     "metadata": {},
     "output_type": "execute_result"
    }
   ],
   "source": [
    "len(test_loader)"
   ]
  },
  {
   "cell_type": "markdown",
   "metadata": {},
   "source": [
    "## Exploración y análisis del Dataset\n",
    "\n",
    "En esta sección haremos una exploración y análisis de las imagenes de nuestro conjunto de datos. En la siguiente instrucción desempaquetamos las etiquetas y las imagenes del conjunto de entrenamiento."
   ]
  },
  {
   "cell_type": "code",
   "execution_count": 8,
   "metadata": {},
   "outputs": [],
   "source": [
    "dataiter = iter(train_loader)\n",
    "images, labels = dataiter.next()"
   ]
  },
  {
   "cell_type": "markdown",
   "metadata": {},
   "source": [
    "Ahora veamos las dimensiones de las imagenes y las etiquetas. La primera dimensión indica el batch size, cada elemento del bach es una imagen de $28 \\times 28$."
   ]
  },
  {
   "cell_type": "code",
   "execution_count": 9,
   "metadata": {},
   "outputs": [
    {
     "name": "stdout",
     "output_type": "stream",
     "text": [
      "torch.Size([32, 1, 28, 28])\n",
      "torch.Size([32])\n"
     ]
    }
   ],
   "source": [
    "print(images.shape)\n",
    "print(labels.shape)"
   ]
  },
  {
   "cell_type": "markdown",
   "metadata": {},
   "source": [
    "La siguiente instrucción solo es ilustrativa y muestra como es una imagen del conjunto con su etiqueta."
   ]
  },
  {
   "cell_type": "code",
   "execution_count": 10,
   "metadata": {},
   "outputs": [
    {
     "name": "stdout",
     "output_type": "stream",
     "text": [
      "dígito:  1\n"
     ]
    },
    {
     "data": {
      "image/png": "[encoded data removed]",
      "text/plain": [
       "<Figure size 432x288 with 1 Axes>"
      ]
     },
     "metadata": {
      "needs_background": "light"
     },
     "output_type": "display_data"
    }
   ],
   "source": [
    "index = 10\n",
    "plt.imshow(images[index].numpy().squeeze(), cmap='gray_r'); \n",
    "print('dígito: ',int(labels[index]))"
   ]
  },
  {
   "cell_type": "markdown",
   "metadata": {},
   "source": [
    "## Arquitectura de la red\n",
    "\n",
    "Ahora procedemos a la definición del modelo. Proponemos una red feedforward con 2 capas intermedias, con función de activación relu. Como la tarea es de clasificar la capa de salida consitira de 10 nodos, una por cada clase. \n",
    "\n",
    "Definiremos una clase llamada ``Classifier``, esta clase hereda de ``nn.Module`` que es una clase abstracta que modela a las redes neuronales, usaremos esta estructura para definir una red neuronal con dos capas intermedias de tamaño $128$ y $64$ respectivamente. Después de definir la estructura de las capas de salida e intermedias como atributos, les damos un orden en el método ``forward`` donde las conectamos y les aplicamos la función de activación, finalmente agragamos la capa de salida. Note que la capa de salida no tiene la función de activación usual, más adelante veremos porque."
   ]
  },
  {
   "cell_type": "code",
   "execution_count": 11,
   "metadata": {},
   "outputs": [],
   "source": [
    "input_size = 28 * 28\n",
    "hidden_sizes = [128, 64]\n",
    "\n",
    "class Classifier(nn.Module):\n",
    "    \n",
    "    def __init__(self, input_size=input_size, hidden_sizes=hidden_sizes , classes=10):\n",
    "        super(Classifier, self).__init__()\n",
    "        s1, s2 = hidden_sizes\n",
    "        self.linear1 = nn.Linear(input_size, s1) # capa intermedia 1\n",
    "        self.linear2 = nn.Linear(s1, s2) # capa intermedia 2\n",
    "        self.linear3 = nn.Linear(s2, classes)  # capa de salida\n",
    "\n",
    "    def forward(self, x):\n",
    "        x = F.relu(self.linear1(x))\n",
    "        x = F.relu(self.linear2(x))\n",
    "        x = self.linear3(x)\n",
    "        return x"
   ]
  },
  {
   "cell_type": "markdown",
   "metadata": {},
   "source": [
    "Declaramos al modelo."
   ]
  },
  {
   "cell_type": "code",
   "execution_count": 12,
   "metadata": {},
   "outputs": [],
   "source": [
    "model = Classifier()"
   ]
  },
  {
   "cell_type": "markdown",
   "metadata": {},
   "source": [
    "Llamamos a la función ``summary`` para ver información acerca del modelo, en la seunda entrada deben de ponerse la dimensión de los atributos."
   ]
  },
  {
   "cell_type": "code",
   "execution_count": 13,
   "metadata": {},
   "outputs": [
    {
     "name": "stdout",
     "output_type": "stream",
     "text": [
      "----------------------------------------------------------------\n",
      "        Layer (type)               Output Shape         Param #\n",
      "================================================================\n",
      "            Linear-1               [-1, 1, 128]         100,480\n",
      "            Linear-2                [-1, 1, 64]           8,256\n",
      "            Linear-3                [-1, 1, 10]             650\n",
      "================================================================\n",
      "Total params: 109,386\n",
      "Trainable params: 109,386\n",
      "Non-trainable params: 0\n",
      "----------------------------------------------------------------\n",
      "Input size (MB): 0.00\n",
      "Forward/backward pass size (MB): 0.00\n",
      "Params size (MB): 0.42\n",
      "Estimated Total Size (MB): 0.42\n",
      "----------------------------------------------------------------\n"
     ]
    }
   ],
   "source": [
    "summary(model, (1, 28 * 28))"
   ]
  },
  {
   "cell_type": "code",
   "execution_count": 14,
   "metadata": {},
   "outputs": [
    {
     "name": "stdout",
     "output_type": "stream",
     "text": [
      "Classifier(\n",
      "  (linear1): Linear(in_features=784, out_features=128, bias=True)\n",
      "  (linear2): Linear(in_features=128, out_features=64, bias=True)\n",
      "  (linear3): Linear(in_features=64, out_features=10, bias=True)\n",
      ")\n"
     ]
    }
   ],
   "source": [
    "print(model)"
   ]
  },
  {
   "cell_type": "markdown",
   "metadata": {},
   "source": [
    "## Optimizador y función de costos\n",
    "\n",
    "Discutiremos más adelante la capa de salida de la arquitectura y la función costos (*CIFAR10_pytorch.ipynb*). Sólo es necesario notar que no es necesario usar la función softmax pues ya viene integrada en la función de costos. Tampoco es necesario que las etiquetas tengan la estructura *one hot*, pues la función *CrossEntropyLoss* nos evita esa tarea."
   ]
  },
  {
   "cell_type": "code",
   "execution_count": 15,
   "metadata": {},
   "outputs": [],
   "source": [
    "criterion = nn.CrossEntropyLoss()\n",
    "optimizer = optim.Adam(model.parameters(), lr=0.001, weight_decay=0.0005)"
   ]
  },
  {
   "cell_type": "markdown",
   "metadata": {},
   "source": [
    "El optimizador es proporcionado por ``torch.optim``, es el que realizará la tarea de descenso de gradiente y actualizará los pesos por medio del métdodo de *backpropagation*. "
   ]
  },
  {
   "cell_type": "markdown",
   "metadata": {},
   "source": [
    "## Entrenamiento\n",
    "\n",
    "Ya estamos preparados para continuar con el entrenamiento para ello definiremos la función ``training_loop``. En la siguiente función la red neuronal itererá sobre conjunto de entrenamiento y lo integrará con el optimizador que hará su tarea. Note que a diferencia de Keras es necesario decirle a la red neuronal cuando va a tener que darle seguiemiento al gradiente en cada paso para después hacer backpropagation.\n",
    "\n",
    "No sólo usaremos esta función para el entrenamiento si no que también para la validación. Es necesario decirle a la red cuando vamos a hacer el proceso de validación y no darle seguimiento del grandiente para eso sirve la bandera ``valid``."
   ]
  },
  {
   "cell_type": "code",
   "execution_count": 16,
   "metadata": {},
   "outputs": [],
   "source": [
    "def training_loop(train_loader, model, optimizer, loss_function, pbar, valid=False):\n",
    "    running_loss = 0.0\n",
    "    correct = 0\n",
    "    total = 0\n",
    "    if valid: \n",
    "        model.eval() # modo de validación del modelo \n",
    "    for i, data in enumerate(train_loader, 0):\n",
    "        X, Y = data\n",
    "        X = X.view(images.shape[0], -1) # transformamos los datos para la red\n",
    "        # print(X.shape)\n",
    "        if not valid:\n",
    "            optimizer.zero_grad() # reinicia el gradiente\n",
    "            \n",
    "        pred = model(X)\n",
    "        #import pdb; pdb.set_trace()\n",
    "        loss = loss_function(pred, Y)\n",
    "        if not valid:\n",
    "            loss.backward() # cálcula las derivadas \n",
    "            optimizer.step() # paso de optimización \n",
    "            \n",
    "        running_loss += loss.item()\n",
    "        \n",
    "        avg_loss = running_loss/(i + 1)\n",
    "        \n",
    "        probs = F.softmax(pred, 1)\n",
    "        label = torch.argmax(probs, dim=1)\n",
    "        correct += torch.sum(label == Y).item()\n",
    "        total += Y.shape[0]\n",
    "        acc = correct/total\n",
    "        \n",
    "        pbar.set_postfix(avg_loss='{:.4f}'.format(avg_loss), acc='{:.4f}'.format(acc))\n",
    "        pbar.update(Y.shape[0])\n",
    "        \n",
    "    return avg_loss, acc"
   ]
  },
  {
   "cell_type": "markdown",
   "metadata": {},
   "source": [
    "Ahora establecemos la cantidad de épocas y generamos las listas donde guardaremos el rendimiento del modelo."
   ]
  },
  {
   "cell_type": "code",
   "execution_count": 17,
   "metadata": {},
   "outputs": [],
   "source": [
    "import time\n",
    "EPOCHS = 15\n",
    "\n",
    "train_time = 0\n",
    "epoch_loss = []\n",
    "epoch_acc = []\n",
    "val_loss = []\n",
    "val_acc = []"
   ]
  },
  {
   "cell_type": "markdown",
   "metadata": {},
   "source": [
    "Juntamos todo y empezamos el entrenamiento."
   ]
  },
  {
   "cell_type": "code",
   "execution_count": 18,
   "metadata": {},
   "outputs": [
    {
     "name": "stderr",
     "output_type": "stream",
     "text": [
      "Epoch 1/15 - training:   0%|          | 0/48000 [00:00<?, ?it/s, acc=0.0, avg_loss=0.0]"
     ]
    },
    {
     "name": "stdout",
     "output_type": "stream",
     "text": [
      "> <ipython-input-16-06529a363596>(16)training_loop()\n",
      "-> loss = loss_function(pred, Y)\n",
      "(Pdb) pred.shape\n",
      "torch.Size([32, 10])\n",
      "(Pdb) pred.Y\n",
      "*** AttributeError: 'Tensor' object has no attribute 'Y'\n",
      "(Pdb) Y.shape\n",
      "torch.Size([32])\n",
      "--KeyboardInterrupt--\n",
      "(Pdb) q\n"
     ]
    },
    {
     "name": "stderr",
     "output_type": "stream",
     "text": [
      "Epoch 1/15 - training:   0%|          | 0/48000 [00:33<?, ?it/s, acc=0.0, avg_loss=0.0]\n"
     ]
    },
    {
     "ename": "BdbQuit",
     "evalue": "",
     "output_type": "error",
     "traceback": [
      "\u001b[0;31m---------------------------------------------------------------------------\u001b[0m",
      "\u001b[0;31mBdbQuit\u001b[0m                                   Traceback (most recent call last)",
      "\u001b[0;32m<ipython-input-18-dffef30a905e>\u001b[0m in \u001b[0;36m<module>\u001b[0;34m\u001b[0m\n\u001b[1;32m      4\u001b[0m         \u001b[0mpbar_train\u001b[0m\u001b[0;34m.\u001b[0m\u001b[0mset_description\u001b[0m\u001b[0;34m(\u001b[0m\u001b[0;34mf'Epoch {epoch + 1}/'\u001b[0m\u001b[0;34m+\u001b[0m\u001b[0mstr\u001b[0m\u001b[0;34m(\u001b[0m\u001b[0mEPOCHS\u001b[0m\u001b[0;34m)\u001b[0m\u001b[0;34m+\u001b[0m\u001b[0;34m' - training'\u001b[0m\u001b[0;34m)\u001b[0m\u001b[0;34m\u001b[0m\u001b[0;34m\u001b[0m\u001b[0m\n\u001b[1;32m      5\u001b[0m         \u001b[0mpbar_train\u001b[0m\u001b[0;34m.\u001b[0m\u001b[0mset_postfix\u001b[0m\u001b[0;34m(\u001b[0m\u001b[0mavg_loss\u001b[0m\u001b[0;34m=\u001b[0m\u001b[0;34m'0.0'\u001b[0m\u001b[0;34m,\u001b[0m \u001b[0macc\u001b[0m\u001b[0;34m=\u001b[0m\u001b[0;34m'0.0'\u001b[0m\u001b[0;34m)\u001b[0m\u001b[0;34m\u001b[0m\u001b[0;34m\u001b[0m\u001b[0m\n\u001b[0;32m----> 6\u001b[0;31m         \u001b[0mloss_train\u001b[0m\u001b[0;34m,\u001b[0m \u001b[0macc_train\u001b[0m \u001b[0;34m=\u001b[0m \u001b[0mtraining_loop\u001b[0m\u001b[0;34m(\u001b[0m\u001b[0mtrain_loader\u001b[0m\u001b[0;34m,\u001b[0m \u001b[0mmodel\u001b[0m\u001b[0;34m,\u001b[0m \u001b[0moptimizer\u001b[0m\u001b[0;34m,\u001b[0m \u001b[0mcriterion\u001b[0m\u001b[0;34m,\u001b[0m \u001b[0mpbar_train\u001b[0m\u001b[0;34m,\u001b[0m \u001b[0mvalid\u001b[0m\u001b[0;34m=\u001b[0m\u001b[0;32mFalse\u001b[0m\u001b[0;34m)\u001b[0m\u001b[0;34m\u001b[0m\u001b[0;34m\u001b[0m\u001b[0m\n\u001b[0m\u001b[1;32m      7\u001b[0m         \u001b[0mtrain_time\u001b[0m \u001b[0;34m+=\u001b[0m  \u001b[0mtime\u001b[0m\u001b[0;34m.\u001b[0m\u001b[0mtime\u001b[0m\u001b[0;34m(\u001b[0m\u001b[0;34m)\u001b[0m \u001b[0;34m-\u001b[0m \u001b[0mstart_time\u001b[0m\u001b[0;34m\u001b[0m\u001b[0;34m\u001b[0m\u001b[0m\n\u001b[1;32m      8\u001b[0m     \u001b[0;32mwith\u001b[0m \u001b[0mtqdm\u001b[0m\u001b[0;34m(\u001b[0m\u001b[0mtotal\u001b[0m \u001b[0;34m=\u001b[0m \u001b[0mn_val\u001b[0m\u001b[0;34m,\u001b[0m \u001b[0mposition\u001b[0m\u001b[0;34m=\u001b[0m\u001b[0;36m0\u001b[0m\u001b[0;34m)\u001b[0m \u001b[0;32mas\u001b[0m \u001b[0mpbar_val\u001b[0m\u001b[0;34m:\u001b[0m\u001b[0;34m\u001b[0m\u001b[0;34m\u001b[0m\u001b[0m\n",
      "\u001b[0;32m<ipython-input-16-06529a363596>\u001b[0m in \u001b[0;36mtraining_loop\u001b[0;34m(train_loader, model, optimizer, loss_function, pbar, valid)\u001b[0m\n\u001b[1;32m     14\u001b[0m         \u001b[0mpred\u001b[0m \u001b[0;34m=\u001b[0m \u001b[0mmodel\u001b[0m\u001b[0;34m(\u001b[0m\u001b[0mX\u001b[0m\u001b[0;34m)\u001b[0m\u001b[0;34m\u001b[0m\u001b[0;34m\u001b[0m\u001b[0m\n\u001b[1;32m     15\u001b[0m         \u001b[0;32mimport\u001b[0m \u001b[0mpdb\u001b[0m\u001b[0;34m;\u001b[0m \u001b[0mpdb\u001b[0m\u001b[0;34m.\u001b[0m\u001b[0mset_trace\u001b[0m\u001b[0;34m(\u001b[0m\u001b[0;34m)\u001b[0m\u001b[0;34m\u001b[0m\u001b[0;34m\u001b[0m\u001b[0m\n\u001b[0;32m---> 16\u001b[0;31m         \u001b[0mloss\u001b[0m \u001b[0;34m=\u001b[0m \u001b[0mloss_function\u001b[0m\u001b[0;34m(\u001b[0m\u001b[0mpred\u001b[0m\u001b[0;34m,\u001b[0m \u001b[0mY\u001b[0m\u001b[0;34m)\u001b[0m\u001b[0;34m\u001b[0m\u001b[0;34m\u001b[0m\u001b[0m\n\u001b[0m\u001b[1;32m     17\u001b[0m         \u001b[0;32mif\u001b[0m \u001b[0;32mnot\u001b[0m \u001b[0mvalid\u001b[0m\u001b[0;34m:\u001b[0m\u001b[0;34m\u001b[0m\u001b[0;34m\u001b[0m\u001b[0m\n\u001b[1;32m     18\u001b[0m             \u001b[0mloss\u001b[0m\u001b[0;34m.\u001b[0m\u001b[0mbackward\u001b[0m\u001b[0;34m(\u001b[0m\u001b[0;34m)\u001b[0m \u001b[0;31m# cálcula las derivadas\u001b[0m\u001b[0;34m\u001b[0m\u001b[0;34m\u001b[0m\u001b[0m\n",
      "\u001b[0;32m<ipython-input-16-06529a363596>\u001b[0m in \u001b[0;36mtraining_loop\u001b[0;34m(train_loader, model, optimizer, loss_function, pbar, valid)\u001b[0m\n\u001b[1;32m     14\u001b[0m         \u001b[0mpred\u001b[0m \u001b[0;34m=\u001b[0m \u001b[0mmodel\u001b[0m\u001b[0;34m(\u001b[0m\u001b[0mX\u001b[0m\u001b[0;34m)\u001b[0m\u001b[0;34m\u001b[0m\u001b[0;34m\u001b[0m\u001b[0m\n\u001b[1;32m     15\u001b[0m         \u001b[0;32mimport\u001b[0m \u001b[0mpdb\u001b[0m\u001b[0;34m;\u001b[0m \u001b[0mpdb\u001b[0m\u001b[0;34m.\u001b[0m\u001b[0mset_trace\u001b[0m\u001b[0;34m(\u001b[0m\u001b[0;34m)\u001b[0m\u001b[0;34m\u001b[0m\u001b[0;34m\u001b[0m\u001b[0m\n\u001b[0;32m---> 16\u001b[0;31m         \u001b[0mloss\u001b[0m \u001b[0;34m=\u001b[0m \u001b[0mloss_function\u001b[0m\u001b[0;34m(\u001b[0m\u001b[0mpred\u001b[0m\u001b[0;34m,\u001b[0m \u001b[0mY\u001b[0m\u001b[0;34m)\u001b[0m\u001b[0;34m\u001b[0m\u001b[0;34m\u001b[0m\u001b[0m\n\u001b[0m\u001b[1;32m     17\u001b[0m         \u001b[0;32mif\u001b[0m \u001b[0;32mnot\u001b[0m \u001b[0mvalid\u001b[0m\u001b[0;34m:\u001b[0m\u001b[0;34m\u001b[0m\u001b[0;34m\u001b[0m\u001b[0m\n\u001b[1;32m     18\u001b[0m             \u001b[0mloss\u001b[0m\u001b[0;34m.\u001b[0m\u001b[0mbackward\u001b[0m\u001b[0;34m(\u001b[0m\u001b[0;34m)\u001b[0m \u001b[0;31m# cálcula las derivadas\u001b[0m\u001b[0;34m\u001b[0m\u001b[0;34m\u001b[0m\u001b[0m\n",
      "\u001b[0;32m/usr/local/Cellar/python/3.7.7/Frameworks/Python.framework/Versions/3.7/lib/python3.7/bdb.py\u001b[0m in \u001b[0;36mtrace_dispatch\u001b[0;34m(self, frame, event, arg)\u001b[0m\n\u001b[1;32m     86\u001b[0m             \u001b[0;32mreturn\u001b[0m \u001b[0;31m# None\u001b[0m\u001b[0;34m\u001b[0m\u001b[0;34m\u001b[0m\u001b[0m\n\u001b[1;32m     87\u001b[0m         \u001b[0;32mif\u001b[0m \u001b[0mevent\u001b[0m \u001b[0;34m==\u001b[0m \u001b[0;34m'line'\u001b[0m\u001b[0;34m:\u001b[0m\u001b[0;34m\u001b[0m\u001b[0;34m\u001b[0m\u001b[0m\n\u001b[0;32m---> 88\u001b[0;31m             \u001b[0;32mreturn\u001b[0m \u001b[0mself\u001b[0m\u001b[0;34m.\u001b[0m\u001b[0mdispatch_line\u001b[0m\u001b[0;34m(\u001b[0m\u001b[0mframe\u001b[0m\u001b[0;34m)\u001b[0m\u001b[0;34m\u001b[0m\u001b[0;34m\u001b[0m\u001b[0m\n\u001b[0m\u001b[1;32m     89\u001b[0m         \u001b[0;32mif\u001b[0m \u001b[0mevent\u001b[0m \u001b[0;34m==\u001b[0m \u001b[0;34m'call'\u001b[0m\u001b[0;34m:\u001b[0m\u001b[0;34m\u001b[0m\u001b[0;34m\u001b[0m\u001b[0m\n\u001b[1;32m     90\u001b[0m             \u001b[0;32mreturn\u001b[0m \u001b[0mself\u001b[0m\u001b[0;34m.\u001b[0m\u001b[0mdispatch_call\u001b[0m\u001b[0;34m(\u001b[0m\u001b[0mframe\u001b[0m\u001b[0;34m,\u001b[0m \u001b[0marg\u001b[0m\u001b[0;34m)\u001b[0m\u001b[0;34m\u001b[0m\u001b[0;34m\u001b[0m\u001b[0m\n",
      "\u001b[0;32m/usr/local/Cellar/python/3.7.7/Frameworks/Python.framework/Versions/3.7/lib/python3.7/bdb.py\u001b[0m in \u001b[0;36mdispatch_line\u001b[0;34m(self, frame)\u001b[0m\n\u001b[1;32m    111\u001b[0m         \u001b[0;32mif\u001b[0m \u001b[0mself\u001b[0m\u001b[0;34m.\u001b[0m\u001b[0mstop_here\u001b[0m\u001b[0;34m(\u001b[0m\u001b[0mframe\u001b[0m\u001b[0;34m)\u001b[0m \u001b[0;32mor\u001b[0m \u001b[0mself\u001b[0m\u001b[0;34m.\u001b[0m\u001b[0mbreak_here\u001b[0m\u001b[0;34m(\u001b[0m\u001b[0mframe\u001b[0m\u001b[0;34m)\u001b[0m\u001b[0;34m:\u001b[0m\u001b[0;34m\u001b[0m\u001b[0;34m\u001b[0m\u001b[0m\n\u001b[1;32m    112\u001b[0m             \u001b[0mself\u001b[0m\u001b[0;34m.\u001b[0m\u001b[0muser_line\u001b[0m\u001b[0;34m(\u001b[0m\u001b[0mframe\u001b[0m\u001b[0;34m)\u001b[0m\u001b[0;34m\u001b[0m\u001b[0;34m\u001b[0m\u001b[0m\n\u001b[0;32m--> 113\u001b[0;31m             \u001b[0;32mif\u001b[0m \u001b[0mself\u001b[0m\u001b[0;34m.\u001b[0m\u001b[0mquitting\u001b[0m\u001b[0;34m:\u001b[0m \u001b[0;32mraise\u001b[0m \u001b[0mBdbQuit\u001b[0m\u001b[0;34m\u001b[0m\u001b[0;34m\u001b[0m\u001b[0m\n\u001b[0m\u001b[1;32m    114\u001b[0m         \u001b[0;32mreturn\u001b[0m \u001b[0mself\u001b[0m\u001b[0;34m.\u001b[0m\u001b[0mtrace_dispatch\u001b[0m\u001b[0;34m\u001b[0m\u001b[0;34m\u001b[0m\u001b[0m\n\u001b[1;32m    115\u001b[0m \u001b[0;34m\u001b[0m\u001b[0m\n",
      "\u001b[0;31mBdbQuit\u001b[0m: "
     ]
    }
   ],
   "source": [
    "\n",
    "for epoch in range(EPOCHS):\n",
    "    start_time = time.time()\n",
    "    with tqdm(total = n_train, position=0) as pbar_train:\n",
    "        pbar_train.set_description(f'Epoch {epoch + 1}/'+str(EPOCHS)+' - training')\n",
    "        pbar_train.set_postfix(avg_loss='0.0', acc='0.0')\n",
    "        loss_train, acc_train = training_loop(train_loader, model, optimizer, criterion, pbar_train, valid=False)\n",
    "        train_time +=  time.time() - start_time\n",
    "    with tqdm(total = n_val, position=0) as pbar_val:\n",
    "        pbar_val.set_description(f'Epoch {epoch +1}/'+str(EPOCHS)+' - validation')\n",
    "        pbar_val.set_postfix(avg_loss='0.0', acc='0.0')\n",
    "        loss_val, acc_val = training_loop(val_loader, model, None, criterion, pbar_val, valid=True)\n",
    "    \n",
    "    epoch_loss.append(loss_train)\n",
    "    epoch_acc.append(acc_train)\n",
    "    val_loss.append(loss_val)\n",
    "    val_acc.append(acc_val)\n",
    "\n",
    "print(\"--- %s minutes ---\", train_time)"
   ]
  },
  {
   "cell_type": "markdown",
   "metadata": {},
   "source": [
    "## Rendimiento del modelo"
   ]
  },
  {
   "cell_type": "code",
   "execution_count": null,
   "metadata": {},
   "outputs": [],
   "source": [
    "plt.plot(epoch_acc)\n",
    "plt.plot(val_acc)\n",
    "plt.title('model accuracy')\n",
    "plt.ylabel('accuracy')\n",
    "plt.xlabel('epoch')\n",
    "plt.legend(['train', 'test'], loc='upper left')\n",
    "plt.show()"
   ]
  },
  {
   "cell_type": "code",
   "execution_count": null,
   "metadata": {},
   "outputs": [],
   "source": [
    "plt.plot(epoch_loss)\n",
    "plt.plot(val_loss)\n",
    "plt.title('model loss')\n",
    "plt.ylabel('loss')\n",
    "plt.xlabel('epoch')\n",
    "plt.legend(['train', 'test'], loc='upper left')\n",
    "plt.show()"
   ]
  },
  {
   "cell_type": "markdown",
   "metadata": {},
   "source": [
    "## Prueba del modelo"
   ]
  },
  {
   "cell_type": "code",
   "execution_count": null,
   "metadata": {},
   "outputs": [],
   "source": [
    "running_loss = 0.0\n",
    "correct = 0\n",
    "total = 0\n",
    "for i, data in enumerate(test_loader, 0):\n",
    "    X, Y = data\n",
    "    X = X.view(-1, 28 * 28) # transformamos los datos para la red        \n",
    "    pred = model(X)\n",
    "    loss = criterion(pred, Y)\n",
    "    running_loss += loss.item()\n",
    "    avg_loss = running_loss/(i + 1)\n",
    "    probs = F.softmax(pred, 1)\n",
    "    label = torch.argmax(probs, dim=1)\n",
    "    correct += torch.sum(label == Y).item()\n",
    "    total += Y.shape[0]\n",
    "    acc = correct/total\n",
    "        \n",
    "print('accuracy: {}, loss: {}'.format(acc, avg_loss))"
   ]
  }
 ],
 "metadata": {
  "kernelspec": {
   "display_name": "Python 3.7.7 64-bit",
   "language": "python",
   "name": "python37764bit28dc42f4292c4c44b7b26afe40584d62"
  },
  "language_info": {
   "codemirror_mode": {
    "name": "ipython",
    "version": 3
   },
   "file_extension": ".py",
   "mimetype": "text/x-python",
   "name": "python",
   "nbconvert_exporter": "python",
   "pygments_lexer": "ipython3",
   "version": "3.7.7"
  }
 },
 "nbformat": 4,
 "nbformat_minor": 4
}
