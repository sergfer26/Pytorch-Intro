{
 "cells": [
  {
   "cell_type": "markdown",
   "metadata": {},
   "source": [
    "# Un primer acercamineto a Pytorch\n",
    "\n",
    "Pytorch es un framework libre y de open source para la implementación de modelos de Deep Learning. Fue desarrollado principalmenete por el laboratorio de investigación de inteligencia artificial de Facebook (FAIR) y fue liberado en octubre del 2016. Ha sido ampliamente usado en Visión por Computadora, Procesamiento de Lenguaje Natural, Reinforcement Learning, entre otros temas. \n",
    "\n",
    "Entre las características que tiene Pytorch, destacan las siguientes: \n",
    "\n",
    "   * El uso de ``torch``, que es una biblioteca optimizada para el computo tensorial, similar a Numpy, basado en el lenguaje de programación Lua. La gran ventaja de esta biblioteca es que puede ser operada desde CUDA para hacer uso de un GPU Nvidia. \n",
    "   \n",
    "   * El uso explícito de la diferenciación automática. Es posible dar seguimiento a las operaciones numéricas realizadas y después calcular los gradientes en cada paso, esta es una herraminta muy útil en el proceso de *Backward propagation* en el entrenaminto de redes neuronales.\n",
    "   \n",
    "En su sitio web ofrecen más información del framework, también hay foros de discusión, tutoriales entre otras cosas: \n",
    "https://pytorch.org. Además en la página web da la opción de descargar el libro *DEEP LEARNING WITH PYTORCH* de forma gratiuta, la dirección la puedes encontar [aquí](https://pytorch.org/deep-learning-with-pytorch). El libro permite aprender las partes escenciales del framework y concepetos relacionados con Deep Learning.\n",
    "\n",
    "Ahora usaremos pytorch para hacer un clasificador para el conjuto de imágenes CIFAR10. Nos basaremos en el tutorial que puede encontrar [aquí](https://pytorch.org/tutorials/beginner/blitz/cifar10_tutorial.html).\n",
    "\n",
    "Antes de empezar, será necesario introducir los siguientes módulos:\n",
    "\n",
    "* ``torch``: puede encontrar ejemplos del uso de torch en el notebook [pytorch_basics](pytorch_basics.ipynb).\n",
    "* ``torch.nn``: consite de los modelos y funciones usados en la red neuronal, puede encontrar ejemplos del módulo en el notebook [pytorch_nn](pytorch_nn.ipynb).\n",
    "* ``torchvison``: consite datasets populares, arquitecturas populares y transformaciones para visión por computadora\n",
    "(``transforms``).\n",
    "\n",
    "Será necesario instalar las siguientes bibliotecas: \n",
    "\n",
    "* torch\n",
    "* torchvision\n",
    "* tqdm"
   ]
  },
  {
   "cell_type": "code",
   "execution_count": 1,
   "metadata": {},
   "outputs": [],
   "source": [
    "import torch\n",
    "import torchvision \n",
    "import torchvision.transforms as t"
   ]
  },
  {
   "cell_type": "markdown",
   "metadata": {},
   "source": [
    "### CPU vs GPU\n",
    "\n",
    "Pytorch permite hacer uso del CPU de forma predeterminda o GPU, si este existe y el usario selecciona la opción de usarlo. Para hacer uso del GPU sólo es necesario ejecutar la instrucción siguiente:"
   ]
  },
  {
   "cell_type": "code",
   "execution_count": 2,
   "metadata": {},
   "outputs": [
    {
     "name": "stdout",
     "output_type": "stream",
     "text": [
      "cpu\n"
     ]
    }
   ],
   "source": [
    "device = \"cpu\"\n",
    "\n",
    "if torch.cuda.is_available():\n",
    "    device = \"cuda\"\n",
    "\n",
    "print(device)"
   ]
  },
  {
   "cell_type": "markdown",
   "metadata": {},
   "source": [
    "**Nota:** Si no se tiene CPU se dejará indicado que se usará el CPU. Si no se quiere usar el GPU basta con omitir la instrucción anterior salvo la indicación ``device = \"cpu\"``."
   ]
  },
  {
   "cell_type": "markdown",
   "metadata": {},
   "source": [
    "## Preparación y Normalización de datos \n",
    "\n",
    "La siguiente instrucción corresponde al almacenaminto y normalización de los datos. Note que el conjunto de datos proviene de ``torchvision.datasets`` y esta biblioteca, por defecto, ya tiene separados los datos de entrenamiento y prueba, basta con indicarlo."
   ]
  },
  {
   "cell_type": "code",
   "execution_count": 3,
   "metadata": {},
   "outputs": [
    {
     "name": "stdout",
     "output_type": "stream",
     "text": [
      "Files already downloaded and verified\n",
      "Files already downloaded and verified\n"
     ]
    }
   ],
   "source": [
    "transform = t.Compose([t.ToTensor(), \n",
    "                      t.Normalize((0.5, 0.5, 0.5), (0.5, 0.5, 0.5))])\n",
    "\n",
    "trainset = torchvision.datasets.CIFAR10(root='./data', train=True, \n",
    "                                       download=True, transform=transform)\n",
    "testset = torchvision.datasets.CIFAR10(root='./data', train=False, \n",
    "                                       download=True, transform=transform)\n"
   ]
  },
  {
   "cell_type": "markdown",
   "metadata": {},
   "source": [
    "En la siguiente instrucción, se procede a separar los datos de entrenamiento en los datos que usaremos para entrenar y para validar."
   ]
  },
  {
   "cell_type": "code",
   "execution_count": 4,
   "metadata": {},
   "outputs": [],
   "source": [
    "import numpy as np\n",
    "\n",
    "valid_size = 0.2 # parte para validar\n",
    "n = len(trainset)\n",
    "indices = list(range(n))\n",
    "np.random.shuffle(indices) # revolvemos los indices\n",
    "split = int(np.floor(valid_size * n)) \n",
    "train_idx, valid_idx = indices[split:], indices[:split] # seprarmos los indices\n",
    "\n",
    "train_set = torch.utils.data.Subset(trainset, train_idx) # tomamos un subconjunto de acuerdo a los indices\n",
    "val_set = torch.utils.data.Subset(trainset, valid_idx)\n",
    "n_train = len(train_set)\n",
    "n_val = len(val_set) "
   ]
  },
  {
   "cell_type": "markdown",
   "metadata": {},
   "source": [
    "Ahora le damos una estructura a los datos, es decir, los preparemos para el entrenamiento, indicaremos el ``batch_size``, no estarán ordenados. Para ello creamos un objeto del tipo ``DataLoader`` a paritr de un conjunto dado  que nos permitirá hacer lo anteriormente mencionado. Puede consultar más información sobre ``DataLoader`` [aquí](https://pytorch.org/docs/stable/data.html)."
   ]
  },
  {
   "cell_type": "code",
   "execution_count": 5,
   "metadata": {},
   "outputs": [],
   "source": [
    "train_loader = torch.utils.data.DataLoader(trainset, batch_size=32,\n",
    "                                         shuffle=True, num_workers=2)\n",
    "\n",
    "val_loader = torch.utils.data.DataLoader(trainset, batch_size=32,\n",
    "                                         shuffle=True, num_workers=2)\n",
    "\n",
    "test_loader = torch.utils.data.DataLoader(testset, batch_size=len(testset), \n",
    "                                        shuffle=False, num_workers=2)\n",
    "\n",
    "classes = ['plane', 'car', 'bird', 'cat', 'deer', 'dog', 'frog', 'horse', \n",
    "         'ship', 'truck']"
   ]
  },
  {
   "cell_type": "markdown",
   "metadata": {},
   "source": [
    "## Exploración y análisis del Dataset\n",
    "\n",
    "Veamos las dimensiones de las muestras."
   ]
  },
  {
   "cell_type": "code",
   "execution_count": 6,
   "metadata": {},
   "outputs": [],
   "source": [
    "dataiter = iter(train_loader)\n",
    "images, labels = dataiter.next()"
   ]
  },
  {
   "cell_type": "code",
   "execution_count": 7,
   "metadata": {},
   "outputs": [
    {
     "name": "stdout",
     "output_type": "stream",
     "text": [
      "torch.Size([32, 3, 32, 32])\n",
      "torch.Size([32])\n"
     ]
    }
   ],
   "source": [
    "print(images.shape)\n",
    "print(labels.shape)"
   ]
  },
  {
   "cell_type": "markdown",
   "metadata": {},
   "source": [
    "Veamos como es una muestra del datast."
   ]
  },
  {
   "cell_type": "code",
   "execution_count": 8,
   "metadata": {},
   "outputs": [
    {
     "data": {
      "image/png": "[encoded data removed]",
      "text/plain": [
       "<Figure size 432x288 with 1 Axes>"
      ]
     },
     "metadata": {
      "needs_background": "light"
     },
     "output_type": "display_data"
    },
    {
     "name": "stdout",
     "output_type": "stream",
     "text": [
      "class:  bird\n"
     ]
    }
   ],
   "source": [
    "\n",
    "import matplotlib.pyplot as plt\n",
    "import numpy as np\n",
    "\n",
    "def show_image(img):\n",
    "    np_img = img.numpy()\n",
    "    np_img = np.copy(np_img)\n",
    "    np_img /= 2\n",
    "    np_img += 0.5\n",
    "    plt.imshow(np.transpose(np_img, (1, 2, 0)))\n",
    "    plt.show()\n",
    "\n",
    "# show image\n",
    "\n",
    "index = 10\n",
    "show_image(torchvision.utils.make_grid(images[index]))\n",
    "print('class: ', classes[labels[index]])"
   ]
  },
  {
   "cell_type": "markdown",
   "metadata": {},
   "source": [
    "## Definición de la arquitectura de la red neuronal\n",
    "\n",
    "Para este conjunto de datos usaremos una red convolucional. Para ello ocuparemos la clase ``Conv2d``del módulo\n",
    "torch.nn. Como en otros frameworks es necesario definir la estructura de la capa convolucional, al definir la capa es necesario proporcionar los siguientes paramétros: \n",
    "\n",
    "* ``in_channels (int)``: Número de canales que tiene el tensor de entrada. \n",
    "* ``out_channels (int)``: Número de canales producidos por la convolusión.\n",
    "* ``kernel_size (int or tuple)``: Tamaño del kernel.\n",
    "* ``stride (int or tuple, optional)``: Stride de la convolución. Por defecto: 1.\n",
    "* ``padding (int or tuple, optional)``: Padding . Por defecto: 0.\n",
    "* ``padding_mode (string, optional)``: 'zeros', 'reflect', 'replicate' or 'circular'. Por defecto: 'zeros'.\n",
    "* ``dilation (int or tuple, optional)``: Espaciado entre los elementos del kernel. Por defecto: 1.\n",
    "* ``groups (int, optional)``:  Número de conecciones bloqueadas de los caneles de entrada a los de salida. Por defecto: 1.\n",
    "* ``bias (bool, optional)``: Agrega bias. Default: True\n",
    "\n",
    "Puede consultarse la documentación de ``Conv2d`` [aquí](https://pytorch.org/docs/master/generated/torch.nn.Conv2d.html).\n",
    "\n",
    "En la transición de capas convolucionales ocuparemos ``MaxPool2d`` del módulo ``nn.torch``, tiene los siguientes parámetros: \n",
    "\n",
    "* ``kernel_size``: El tamaño de la ventana donde se aplicará el max. \n",
    "\n",
    "* ``stride``: El stride de la ventana. Por defecto es el kernel_size.\n",
    "\n",
    "* ``padding``: implicit zero padding to be added on both sides.\n",
    "\n",
    "* ``dilation``: un parámetro que controla el stride de elementos en la ventana. \n",
    "\n",
    "* ``return_indices``: Es un booleno, si es ``True``, regresa el máximo de indices con las salidas. \n",
    "\n",
    "* ``ceil_mode``:  Es un booleno, si es ``True``, usa la función piso en lugar de la techo para calcular el shape de la salida.\n",
    "\n",
    "Puede consultarse la documentación de ``MaxPool2d`` [aquí](https://pytorch.org/docs/stable/nn.html)."
   ]
  },
  {
   "cell_type": "code",
   "execution_count": 9,
   "metadata": {},
   "outputs": [],
   "source": [
    "import torch.nn as nn\n",
    "import torch.nn.functional as F\n",
    "\n",
    "class myNet(nn.Module):\n",
    "    \n",
    "    def __init__(self):\n",
    "        super(myNet, self).__init__()\n",
    "        self.conv1 = nn.Conv2d(in_channels=3, out_channels=6, kernel_size=5)\n",
    "        self.pool = nn.MaxPool2d(2,2)\n",
    "        self.conv2 = nn.Conv2d(in_channels=6, out_channels=16, kernel_size=5)\n",
    "        self.fc1 = nn.Linear(16 * 5 * 5, 120)\n",
    "        self.fc2 = nn.Linear(120, 84)\n",
    "        self.fc3 = nn.Linear(84, 10)\n",
    "        \n",
    "    def forward(self, x):\n",
    "        x = self.pool(F.relu(self.conv1(x)))\n",
    "        x = self.pool(F.relu(self.conv2(x)))\n",
    "        x = x.view(-1, 16 * 5 * 5)\n",
    "        x = F.relu(self.fc1(x))\n",
    "        x = F.relu(self.fc2(x))\n",
    "        x = self.fc3(x)\n",
    "        return x\n",
    "    \n",
    "net = myNet()"
   ]
  },
  {
   "cell_type": "markdown",
   "metadata": {},
   "source": [
    "## Definición del optimizador y la función de costos"
   ]
  },
  {
   "cell_type": "markdown",
   "metadata": {},
   "source": [
    "Usaremos el módulo ``optim`` de torch para definir el optimizador y usaremos el módulo ``torch.nn`` para definir la función de costos, al tratarse de la tarea de clasificación, usaremos ``CrossEntropyLoss``."
   ]
  },
  {
   "cell_type": "code",
   "execution_count": 10,
   "metadata": {},
   "outputs": [],
   "source": [
    "import torch.optim as optim\n",
    "\n",
    "loss_function = nn.CrossEntropyLoss()\n",
    "optimizer = optim.SGD(net.parameters(), lr=0.001, momentum=0.9)"
   ]
  },
  {
   "cell_type": "markdown",
   "metadata": {},
   "source": [
    "Una gran ventaja de Pytorch sobre otros frameworks es que para las tareas de clasificación multiclase no es necesario emplear la técnica de *one-hot* para las etiquetas, ni es necesario que en la capa de salida del modelo tenga una función de activación *Softmax*. Todo los pasos antes mecionados son usualmente usados para clasificación multiclase y se ha vuelto repetitivo poner cado uno de ellos en el código, el módulo ``torch.nn`` lo hace por nosotros cuando ocupamos la función ``nn.CrossEntropyLoss``, esta es una versión mejorada de la original y va de acuerdo a la siguiente expresión: \n",
    "$$loss(x, class) = -\\log\\left(\\frac{\\exp(x[class])}{\\sum_{j}\\exp(x[j])}\\right) = -x[class] +\\log\\left(\\sum_{j}\\exp(x[j])\\right),$$\n",
    "\n",
    "el input tiene que tener el tamaño $(minibatch, C)$ o $(minibatch, C, d_1, d_2, \\cdots, d_K)$, donde $C$ es la cantidad de clases y $K$ es el número de dimensiones. Observe que se da una composición de la función $Softmax$ con la de $CrossEntropy$ usual."
   ]
  },
  {
   "cell_type": "markdown",
   "metadata": {},
   "source": [
    "## Entrenamiento del modelo"
   ]
  },
  {
   "cell_type": "code",
   "execution_count": 11,
   "metadata": {},
   "outputs": [],
   "source": [
    "import time\n",
    "EPOCHS = 70\n",
    "\n",
    "train_time = 0\n",
    "epoch_loss = []\n",
    "epoch_acc = []\n",
    "val_loss = []\n",
    "val_acc = []"
   ]
  },
  {
   "cell_type": "markdown",
   "metadata": {},
   "source": [
    "### Barra de progreso del entrenamineto\n",
    "\n",
    "En el entrenamiento muchas veces es útil medir el rendimiento del modelo por cada época. Pytorch a diferencia de Keras no nos da una forma de ver el proceso de entrenamiento, en cambio, se tiene que diseñar, esto puedo representar una ventaja si requiere de otro tipo información, pues se puede diseñar un código que vaya de acuerdo a las necidades del problema. En este caso particular, queremos ver la evolución del entrenamiento como en Keras. Una forma estética y sencilla es ocupando  ``tqdm``, que nos permite generar barras de progeso como se muestra a continuación:"
   ]
  },
  {
   "cell_type": "code",
   "execution_count": 12,
   "metadata": {},
   "outputs": [
    {
     "name": "stderr",
     "output_type": "stream",
     "text": [
      "Epoch:   0%|          | 0/3 [00:00<?, ?it/s]\n",
      "Batch:   0%|          | 0/5 [00:00<?, ?it/s]\u001b[A\n",
      "Batch:  40%|████      | 2/5 [00:00<00:00, 560.25it/s]\n",
      "\n",
      "Batch:  40%|████      | 2/5 [00:00<00:00, 295.11it/s]\n"
     ]
    }
   ],
   "source": [
    "import tqdm\n",
    "outer = tqdm.tqdm(total=3, desc='Epoch', position=0)\n",
    "for ii in range(3):\n",
    "    inner = tqdm.tqdm(total=5, desc='Batch', position=1)\n",
    "    for jj in range(2):\n",
    "        #do your training\n",
    "        inner.update(1)\n",
    "    outer.update(1)"
   ]
  },
  {
   "cell_type": "markdown",
   "metadata": {},
   "source": [
    "El ejemplo anterior fue tomado de [aquí](https://medium.com/@philipplies/progress-bar-and-status-logging-in-python-with-tqdm-35ce29b908f5).\n",
    "\n",
    "Estas barras son personalizables y puede consultarse la documentación [aquí](https://pypi.org/project/tqdm/).\n",
    "\n",
    "Para este ejemplo usaremos un estructura similar a la proporcionada por Keras.\n",
    "\n",
    "### Ciclo de entrenamiento\n",
    "\n",
    "La siguiente función representa el ciclo de entrenamiento, donde se evalúan las muestras, se predicen las etiquetas, se hace se backpropagation (en caso de que no se haga validación) y finalmente se mide el rendimiento del modelo en cada iteración. \n",
    "\n",
    "Es importante notar que en el entrenamiento se tiene que considerar los siguientes elementos:\n",
    "\n",
    "* ``model.eval()``: notifica a todas las capas que el modelo será evaluado, es decir que el modelo estará en el proceso de validación.\n",
    "\n",
    "* ``optimizer.zero_grad``: \"limpia\" el gradiente de la iteración anterior.\n",
    "    \n",
    "* ``loss.backward()``:cálcula las derivadas de la función de costos con respecto a los parametros del modelo.\n",
    "\n",
    "* ``optimizer.step()``: da el paso de la optimización en la dirección del gradiente. "
   ]
  },
  {
   "cell_type": "code",
   "execution_count": 13,
   "metadata": {},
   "outputs": [],
   "source": [
    "from tqdm import tqdm \n",
    "\n",
    "def training_loop(train_loader, model, optimizer, loss_function, pbar, valid=False):\n",
    "    running_loss = 0.0\n",
    "    correct = 0\n",
    "    total = 0\n",
    "    if valid: \n",
    "        model.eval()\n",
    "    for i, data in enumerate(train_loader, 0):\n",
    "        X, Y = data\n",
    "        X = X.to(device) # indicamos que se usaran en el gpu, si device='gpu'\n",
    "        Y = Y.to(device) # indicamos que se usaran en el gpu, si device='gpu'\n",
    "        if not valid:\n",
    "            optimizer.zero_grad()\n",
    "            \n",
    "        pred = model(X)\n",
    "        loss = loss_function(pred, Y)\n",
    "        if not valid:\n",
    "            loss.backward() \n",
    "            optimizer.step()\n",
    "            \n",
    "        running_loss += loss.item()\n",
    "        \n",
    "        avg_loss = running_loss/(i + 1)\n",
    "        \n",
    "        probs = F.softmax(pred, 1)\n",
    "        label = torch.argmax(probs, dim=1)\n",
    "        correct += torch.sum(label == Y).item()\n",
    "        total += Y.shape[0]\n",
    "        acc = correct/total\n",
    "        \n",
    "        pbar.set_postfix(avg_loss='{:.4f}'.format(avg_loss), acc='{:.4f}'.format(acc))\n",
    "        pbar.update(Y.shape[0])\n",
    "        \n",
    "    return avg_loss, acc"
   ]
  },
  {
   "cell_type": "markdown",
   "metadata": {},
   "source": [
    "Por cada época que se tenga se llamará una vez a la función anterior para entrenamiento y una segunda vez para validación. Integramos la tareas anteriores en el siguiente ciclo:"
   ]
  },
  {
   "cell_type": "markdown",
   "metadata": {},
   "source": [
    "\n",
    "for epoch in range(EPOCHS):\n",
    "    start_time = time.time()\n",
    "    with tqdm(total = n_train, position=0) as pbar_train:\n",
    "        pbar_train.set_description(f'Epoch {epoch + 1}/'+str(EPOCHS)+' - training')\n",
    "        pbar_train.set_postfix(avg_loss='0.0', acc='0.0')\n",
    "        loss_train, acc_train = training_loop(train_loader, net, optimizer, loss_function, pbar_train, valid=False)\n",
    "        train_time +=  time.time() - start_time\n",
    "    with tqdm(total = n_val, position=0) as pbar_val:\n",
    "        pbar_val.set_description(f'Epoch {epoch +1}/'+str(EPOCHS)+' - validation')\n",
    "        pbar_val.set_postfix(avg_loss='0.0', acc='0.0')\n",
    "        loss_val, acc_val = training_loop(val_loader, net, None, loss_function, pbar_val, valid=True)\n",
    "    \n",
    "    epoch_loss.append(loss_train)\n",
    "    epoch_acc.append(acc_train)\n",
    "    val_loss.append(loss_val)\n",
    "    val_acc.append(acc_val)\n",
    "\n",
    "print(\"--- %s minutes ---\", train_time)"
   ]
  },
  {
   "cell_type": "code",
   "execution_count": 15,
   "metadata": {},
   "outputs": [
    {
     "name": "stderr",
     "output_type": "stream",
     "text": [
      "Epoch 1/70 - training: : 50000it [00:15, 3132.58it/s, acc=0.1741, avg_loss=2.2208]                         \n",
      "Epoch 1/70 - validation: : 50000it [00:09, 5017.45it/s, acc=0.2973, avg_loss=1.9453]                        \n",
      "Epoch 2/70 - training: : 50000it [00:17, 2929.62it/s, acc=0.3353, avg_loss=1.8140]                         \n",
      "Epoch 2/70 - validation: : 50000it [00:09, 5346.91it/s, acc=0.3907, avg_loss=1.6757]                        \n",
      "Epoch 3/70 - training: : 50000it [00:16, 2980.07it/s, acc=0.4061, avg_loss=1.6182]                         \n",
      "Epoch 3/70 - validation: : 50000it [00:09, 5177.68it/s, acc=0.4251, avg_loss=1.5745]                        \n",
      "Epoch 4/70 - training: : 50000it [00:17, 2890.94it/s, acc=0.4555, avg_loss=1.5007]                         \n",
      "Epoch 4/70 - validation: : 50000it [00:09, 5072.77it/s, acc=0.4751, avg_loss=1.4455]                        \n",
      "Epoch 5/70 - training: : 50000it [00:17, 2886.36it/s, acc=0.4935, avg_loss=1.4021]                         \n",
      "Epoch 5/70 - validation: : 50000it [00:09, 5102.47it/s, acc=0.5175, avg_loss=1.3298]                        \n",
      "Epoch 6/70 - training: : 50000it [00:17, 2931.68it/s, acc=0.5249, avg_loss=1.3263]                         \n",
      "Epoch 6/70 - validation: : 50000it [00:09, 5160.49it/s, acc=0.5500, avg_loss=1.2593]                        \n",
      "Epoch 7/70 - training: : 50000it [00:16, 2954.33it/s, acc=0.5482, avg_loss=1.2624]                         \n",
      "Epoch 7/70 - validation: : 50000it [00:09, 5186.09it/s, acc=0.5660, avg_loss=1.2195]                        \n",
      "Epoch 8/70 - training: : 50000it [00:17, 2927.76it/s, acc=0.5703, avg_loss=1.2088]                         \n",
      "Epoch 8/70 - validation: : 50000it [00:10, 4914.02it/s, acc=0.5926, avg_loss=1.1487]                        \n",
      "Epoch 9/70 - training: : 50000it [00:18, 2639.65it/s, acc=0.5897, avg_loss=1.1620]                         \n",
      "Epoch 9/70 - validation: : 50000it [00:10, 4973.94it/s, acc=0.6093, avg_loss=1.1024]                        \n",
      "Epoch 10/70 - training: : 50000it [00:18, 2710.36it/s, acc=0.6034, avg_loss=1.1199]                         \n",
      "Epoch 10/70 - validation: : 50000it [00:10, 4923.37it/s, acc=0.6135, avg_loss=1.1015]                        \n",
      "Epoch 11/70 - training: : 50000it [00:17, 2824.01it/s, acc=0.6199, avg_loss=1.0838]                         \n",
      "Epoch 11/70 - validation: : 50000it [00:10, 4741.18it/s, acc=0.6389, avg_loss=1.0264]                        \n",
      "Epoch 12/70 - training: : 50000it [00:18, 2763.27it/s, acc=0.6308, avg_loss=1.0493]                         \n",
      "Epoch 12/70 - validation: : 50000it [00:10, 4841.71it/s, acc=0.6373, avg_loss=1.0271]                        \n",
      "Epoch 13/70 - training: : 50000it [00:18, 2754.41it/s, acc=0.6427, avg_loss=1.0181]                         \n",
      "Epoch 13/70 - validation: : 50000it [00:10, 4872.71it/s, acc=0.6624, avg_loss=0.9630]                        \n",
      "Epoch 14/70 - training: : 50000it [00:17, 2799.13it/s, acc=0.6510, avg_loss=0.9887]                         \n",
      "Epoch 14/70 - validation: : 50000it [00:10, 4896.00it/s, acc=0.6738, avg_loss=0.9351]                        \n",
      "Epoch 15/70 - training: : 50000it [00:17, 2785.43it/s, acc=0.6635, avg_loss=0.9585]                         \n",
      "Epoch 15/70 - validation: : 50000it [00:10, 4926.93it/s, acc=0.6620, avg_loss=0.9558]                        \n",
      "Epoch 16/70 - training: : 50000it [00:18, 2714.52it/s, acc=0.6710, avg_loss=0.9330]                         \n",
      "Epoch 16/70 - validation: : 50000it [00:10, 4785.24it/s, acc=0.6942, avg_loss=0.8768]                        \n",
      "Epoch 17/70 - training: : 50000it [00:18, 2698.61it/s, acc=0.6832, avg_loss=0.9098]                         \n",
      "Epoch 17/70 - validation: : 50000it [00:10, 4822.87it/s, acc=0.7047, avg_loss=0.8383]                        \n",
      "Epoch 18/70 - training: : 50000it [00:17, 2827.22it/s, acc=0.6907, avg_loss=0.8805]                         \n",
      "Epoch 18/70 - validation: : 50000it [00:10, 4868.39it/s, acc=0.7008, avg_loss=0.8456]                        \n",
      "Epoch 19/70 - training: : 50000it [00:19, 2576.10it/s, acc=0.6973, avg_loss=0.8584]                         \n",
      "Epoch 19/70 - validation: : 50000it [00:10, 4625.81it/s, acc=0.7132, avg_loss=0.8121]                        \n",
      "Epoch 20/70 - training: : 50000it [00:18, 2691.32it/s, acc=0.7056, avg_loss=0.8375]                         \n",
      "Epoch 20/70 - validation: : 50000it [00:12, 3933.95it/s, acc=0.7188, avg_loss=0.7914]                        \n",
      "Epoch 21/70 - training: : 50000it [00:17, 2828.63it/s, acc=0.7139, avg_loss=0.8106]                         \n",
      "Epoch 21/70 - validation: : 50000it [00:10, 4967.53it/s, acc=0.7293, avg_loss=0.7702]                        \n",
      "Epoch 22/70 - training: : 50000it [00:17, 2844.18it/s, acc=0.7213, avg_loss=0.7950]                         \n",
      "Epoch 22/70 - validation: : 50000it [00:10, 4796.80it/s, acc=0.7397, avg_loss=0.7498]                        \n",
      "Epoch 23/70 - training: : 50000it [00:17, 2872.38it/s, acc=0.7296, avg_loss=0.7706]                         \n",
      "Epoch 23/70 - validation: : 50000it [00:09, 5073.79it/s, acc=0.7416, avg_loss=0.7334]                        \n",
      "Epoch 24/70 - training: : 50000it [00:18, 2751.32it/s, acc=0.7363, avg_loss=0.7499]                         \n",
      "Epoch 24/70 - validation: : 50000it [00:10, 4876.57it/s, acc=0.7416, avg_loss=0.7358]                        \n",
      "Epoch 25/70 - training: : 50000it [00:17, 2846.46it/s, acc=0.7422, avg_loss=0.7332]                         \n",
      "Epoch 25/70 - validation: : 50000it [00:09, 5057.68it/s, acc=0.7582, avg_loss=0.6841]                        \n",
      "Epoch 26/70 - training: : 50000it [00:17, 2888.67it/s, acc=0.7479, avg_loss=0.7127]                         \n",
      "Epoch 26/70 - validation: : 50000it [00:10, 4939.58it/s, acc=0.7603, avg_loss=0.6794]                        \n",
      "Epoch 27/70 - training: : 50000it [00:17, 2838.64it/s, acc=0.7555, avg_loss=0.6962]                         \n",
      "Epoch 27/70 - validation: : 50000it [00:09, 5117.18it/s, acc=0.7755, avg_loss=0.6462]                        \n",
      "Epoch 28/70 - training: : 50000it [00:18, 2740.10it/s, acc=0.7604, avg_loss=0.6793]                         \n",
      "Epoch 28/70 - validation: : 50000it [00:11, 4370.02it/s, acc=0.7713, avg_loss=0.6531]                        \n",
      "Epoch 29/70 - training: : 50000it [00:18, 2703.40it/s, acc=0.7655, avg_loss=0.6631]                         \n",
      "Epoch 29/70 - validation: : 50000it [00:11, 4472.16it/s, acc=0.7832, avg_loss=0.6186]                        \n",
      "Epoch 30/70 - training: : 50000it [00:19, 2585.08it/s, acc=0.7717, avg_loss=0.6446]                         \n",
      "Epoch 30/70 - validation: : 50000it [00:11, 4401.56it/s, acc=0.7993, avg_loss=0.5773]                        \n",
      "Epoch 31/70 - training: : 50000it [00:19, 2522.61it/s, acc=0.7778, avg_loss=0.6289]                         \n",
      "Epoch 31/70 - validation: : 50000it [00:11, 4363.86it/s, acc=0.8036, avg_loss=0.5683]                        \n",
      "Epoch 32/70 - training: : 50000it [00:20, 2494.01it/s, acc=0.7851, avg_loss=0.6128]                         \n",
      "Epoch 32/70 - validation: : 50000it [00:11, 4436.29it/s, acc=0.8039, avg_loss=0.5608]                        \n",
      "Epoch 33/70 - training: : 50000it [00:19, 2510.73it/s, acc=0.7912, avg_loss=0.5979]                         \n",
      "Epoch 33/70 - validation: : 50000it [00:11, 4317.19it/s, acc=0.8168, avg_loss=0.5236]                        \n",
      "Epoch 34/70 - training: : 50000it [00:19, 2514.74it/s, acc=0.7956, avg_loss=0.5823]                         \n",
      "Epoch 34/70 - validation: : 50000it [00:11, 4182.43it/s, acc=0.8227, avg_loss=0.5103]                        \n",
      "Epoch 35/70 - training: : 50000it [00:19, 2520.76it/s, acc=0.7977, avg_loss=0.5655]                         \n",
      "Epoch 35/70 - validation: : 50000it [00:12, 4134.30it/s, acc=0.8108, avg_loss=0.5377]                        \n",
      "Epoch 36/70 - training: : 50000it [00:20, 2479.72it/s, acc=0.8030, avg_loss=0.5529]                         \n",
      "Epoch 36/70 - validation: : 50000it [00:12, 4155.97it/s, acc=0.8308, avg_loss=0.4870]                        \n",
      "Epoch 37/70 - training: : 50000it [00:19, 2518.10it/s, acc=0.8091, avg_loss=0.5359]                         \n",
      "Epoch 37/70 - validation: : 50000it [00:11, 4298.95it/s, acc=0.8391, avg_loss=0.4633]                        \n",
      "Epoch 38/70 - training: : 50000it [00:18, 2632.30it/s, acc=0.8147, avg_loss=0.5215]                         \n",
      "Epoch 38/70 - validation: : 50000it [00:10, 4779.19it/s, acc=0.8360, avg_loss=0.4688]                        \n",
      "Epoch 39/70 - training: : 50000it [00:18, 2658.08it/s, acc=0.8178, avg_loss=0.5125]                         \n",
      "Epoch 39/70 - validation: : 50000it [00:10, 4700.58it/s, acc=0.8448, avg_loss=0.4467]                        \n",
      "Epoch 40/70 - training: : 50000it [00:18, 2649.51it/s, acc=0.8238, avg_loss=0.4951]                         \n",
      "Epoch 40/70 - validation: : 50000it [00:10, 4799.09it/s, acc=0.8481, avg_loss=0.4389]                        \n",
      "Epoch 41/70 - training: : 50000it [00:18, 2635.52it/s, acc=0.8292, avg_loss=0.4851]                         \n",
      "Epoch 41/70 - validation: : 50000it [00:10, 4673.78it/s, acc=0.8428, avg_loss=0.4461]                        \n",
      "Epoch 42/70 - training: : 50000it [00:19, 2623.42it/s, acc=0.8342, avg_loss=0.4689]                         \n",
      "Epoch 42/70 - validation: : 50000it [00:10, 4708.17it/s, acc=0.8479, avg_loss=0.4326]                        \n",
      "Epoch 43/70 - training: : 50000it [00:18, 2647.90it/s, acc=0.8372, avg_loss=0.4549]                         \n",
      "Epoch 43/70 - validation: : 50000it [00:10, 4633.36it/s, acc=0.8602, avg_loss=0.3985]                        \n",
      "Epoch 44/70 - training: : 50000it [00:18, 2651.82it/s, acc=0.8416, avg_loss=0.4478]                         \n",
      "Epoch 44/70 - validation: : 50000it [00:12, 4133.14it/s, acc=0.8575, avg_loss=0.4027]                        \n",
      "Epoch 45/70 - training: : 50000it [00:17, 2804.18it/s, acc=0.8442, avg_loss=0.4335]                         \n",
      "Epoch 45/70 - validation: : 50000it [00:09, 5036.06it/s, acc=0.8704, avg_loss=0.3735]                        \n",
      "Epoch 46/70 - training: : 50000it [00:18, 2702.32it/s, acc=0.8474, avg_loss=0.4270]                         \n",
      "Epoch 46/70 - validation: : 50000it [00:11, 4422.25it/s, acc=0.8705, avg_loss=0.3686]                        \n",
      "Epoch 47/70 - training: : 50000it [00:19, 2622.85it/s, acc=0.8540, avg_loss=0.4111]                         \n",
      "Epoch 47/70 - validation: : 50000it [00:11, 4404.08it/s, acc=0.8571, avg_loss=0.3876]                        \n",
      "Epoch 48/70 - training: : 50000it [00:18, 2644.33it/s, acc=0.8584, avg_loss=0.3961]                         \n",
      "Epoch 48/70 - validation: : 50000it [00:11, 4461.09it/s, acc=0.8864, avg_loss=0.3288]                        \n",
      "Epoch 49/70 - training: : 50000it [00:18, 2634.09it/s, acc=0.8592, avg_loss=0.3924]                         \n",
      "Epoch 49/70 - validation: : 50000it [00:10, 4550.58it/s, acc=0.8666, avg_loss=0.3730]                        \n",
      "Epoch 50/70 - training: : 50000it [00:20, 2450.94it/s, acc=0.8634, avg_loss=0.3780]                         \n",
      "Epoch 50/70 - validation: : 50000it [00:11, 4528.52it/s, acc=0.8906, avg_loss=0.3140]                        \n",
      "Epoch 51/70 - training: : 50000it [00:18, 2691.30it/s, acc=0.8697, avg_loss=0.3638]                         \n",
      "Epoch 51/70 - validation: : 50000it [00:10, 4598.17it/s, acc=0.8736, avg_loss=0.3515]                        \n",
      "Epoch 52/70 - training: : 50000it [00:19, 2612.02it/s, acc=0.8700, avg_loss=0.3605]                         \n",
      "Epoch 52/70 - validation: : 50000it [00:10, 4690.02it/s, acc=0.8866, avg_loss=0.3226]                        \n",
      "Epoch 53/70 - training: : 50000it [00:17, 2784.77it/s, acc=0.8746, avg_loss=0.3471]                         \n",
      "Epoch 53/70 - validation: : 50000it [00:10, 4918.76it/s, acc=0.8897, avg_loss=0.3086]                        \n",
      "Epoch 54/70 - training: : 50000it [00:18, 2657.34it/s, acc=0.8770, avg_loss=0.3431]                         \n",
      "Epoch 54/70 - validation: : 50000it [00:10, 4896.94it/s, acc=0.8861, avg_loss=0.3162]                        \n",
      "Epoch 55/70 - training: : 50000it [00:18, 2653.74it/s, acc=0.8778, avg_loss=0.3342]                         \n",
      "Epoch 55/70 - validation: : 50000it [00:10, 4757.56it/s, acc=0.8939, avg_loss=0.2930]                        \n",
      "Epoch 56/70 - training: : 50000it [00:18, 2761.84it/s, acc=0.8835, avg_loss=0.3225]                         \n",
      "Epoch 56/70 - validation: : 50000it [00:10, 4799.75it/s, acc=0.8853, avg_loss=0.3143]                        \n",
      "Epoch 57/70 - training: : 50000it [00:21, 2342.49it/s, acc=0.8849, avg_loss=0.3200]                         \n",
      "Epoch 57/70 - validation: : 50000it [00:10, 4560.39it/s, acc=0.8939, avg_loss=0.2986]                        \n",
      "Epoch 58/70 - training: : 50000it [00:19, 2541.48it/s, acc=0.8896, avg_loss=0.3035]                         \n",
      "Epoch 58/70 - validation: : 50000it [00:10, 4548.46it/s, acc=0.9180, avg_loss=0.2372]                        \n",
      "Epoch 59/70 - training: : 50000it [00:19, 2590.54it/s, acc=0.8937, avg_loss=0.2954]                         \n",
      "Epoch 59/70 - validation: : 50000it [00:11, 4493.24it/s, acc=0.8978, avg_loss=0.2811]                        \n",
      "Epoch 60/70 - training: : 50000it [00:19, 2606.64it/s, acc=0.8941, avg_loss=0.2905]                         \n",
      "Epoch 60/70 - validation: : 50000it [00:11, 4340.15it/s, acc=0.9110, avg_loss=0.2506]                        \n",
      "Epoch 61/70 - training: : 50000it [00:19, 2546.95it/s, acc=0.8934, avg_loss=0.2924]                         \n",
      "Epoch 61/70 - validation: : 50000it [00:11, 4439.03it/s, acc=0.9133, avg_loss=0.2422]                        \n",
      "Epoch 62/70 - training: : 50000it [00:19, 2542.28it/s, acc=0.8996, avg_loss=0.2773]                         \n",
      "Epoch 62/70 - validation: : 50000it [00:10, 4551.34it/s, acc=0.9135, avg_loss=0.2428]                        \n",
      "Epoch 63/70 - training: : 50000it [00:19, 2504.49it/s, acc=0.9016, avg_loss=0.2707]                         \n",
      "Epoch 63/70 - validation: : 50000it [00:11, 4535.54it/s, acc=0.9237, avg_loss=0.2141]                        \n",
      "Epoch 64/70 - training: : 50000it [00:19, 2599.52it/s, acc=0.9036, avg_loss=0.2656]                         \n",
      "Epoch 64/70 - validation: : 50000it [00:10, 4759.43it/s, acc=0.9222, avg_loss=0.2168]                        \n",
      "Epoch 65/70 - training: : 50000it [00:18, 2684.69it/s, acc=0.9046, avg_loss=0.2621]                         \n",
      "Epoch 65/70 - validation: : 50000it [00:10, 4680.76it/s, acc=0.9076, avg_loss=0.2533]                        \n",
      "Epoch 66/70 - training: : 50000it [00:19, 2622.07it/s, acc=0.9032, avg_loss=0.2637]                         \n",
      "Epoch 66/70 - validation: : 50000it [00:10, 4797.71it/s, acc=0.9322, avg_loss=0.1944]                        \n",
      "Epoch 67/70 - training: : 50000it [00:19, 2610.99it/s, acc=0.9100, avg_loss=0.2506]                         \n",
      "Epoch 67/70 - validation: : 50000it [00:10, 4825.98it/s, acc=0.9038, avg_loss=0.2652]                        \n",
      "Epoch 68/70 - training: : 50000it [00:18, 2651.68it/s, acc=0.9122, avg_loss=0.2388]                         \n",
      "Epoch 68/70 - validation: : 50000it [00:10, 4732.58it/s, acc=0.9333, avg_loss=0.1898]                        \n",
      "Epoch 69/70 - training: : 50000it [00:18, 2664.41it/s, acc=0.9110, avg_loss=0.2442]                         \n",
      "Epoch 69/70 - validation: : 50000it [00:10, 4671.99it/s, acc=0.9270, avg_loss=0.2057]                        \n",
      "Epoch 70/70 - training: : 50000it [00:18, 2687.16it/s, acc=0.9160, avg_loss=0.2321]                         \n",
      "Epoch 70/70 - validation: : 50000it [00:10, 4653.50it/s, acc=0.9222, avg_loss=0.2131]                        "
     ]
    },
    {
     "name": "stdout",
     "output_type": "stream",
     "text": [
      "--- %s minutes --- 1302.8794293403625\n"
     ]
    },
    {
     "name": "stderr",
     "output_type": "stream",
     "text": [
      "\n"
     ]
    }
   ],
   "source": [
    "\n",
    "for epoch in range(EPOCHS):\n",
    "    start_time = time.time()\n",
    "    with tqdm(total = n_train, position=0) as pbar_train:\n",
    "        pbar_train.set_description(f'Epoch {epoch + 1}/'+str(EPOCHS)+' - training')\n",
    "        pbar_train.set_postfix(avg_loss='0.0', acc='0.0')\n",
    "        loss_train, acc_train = training_loop(train_loader, net, optimizer, loss_function, pbar_train, valid=False)\n",
    "        train_time +=  time.time() - start_time\n",
    "    with tqdm(total = n_val, position=0) as pbar_val:\n",
    "        pbar_val.set_description(f'Epoch {epoch +1}/'+str(EPOCHS)+' - validation')\n",
    "        pbar_val.set_postfix(avg_loss='0.0', acc='0.0')\n",
    "        loss_val, acc_val = training_loop(val_loader, net, None, loss_function, pbar_val, valid=True)\n",
    "    \n",
    "    epoch_loss.append(loss_train)\n",
    "    epoch_acc.append(acc_train)\n",
    "    val_loss.append(loss_val)\n",
    "    val_acc.append(acc_val)\n",
    "\n",
    "print(\"--- %s minutes ---\", train_time)"
   ]
  },
  {
   "cell_type": "markdown",
   "metadata": {},
   "source": [
    "### Rendimiento del modelo\n",
    "\n",
    "Es una buena conveción graficar el rendimiento del modelo en cada época. En este caso presentamos la evolución de precisión y el costo en cada época."
   ]
  },
  {
   "cell_type": "code",
   "execution_count": 16,
   "metadata": {},
   "outputs": [
    {
     "data": {
      "image/png": "[encoded data removed]",
      "text/plain": [
       "<Figure size 432x288 with 1 Axes>"
      ]
     },
     "metadata": {
      "needs_background": "light"
     },
     "output_type": "display_data"
    }
   ],
   "source": [
    "import matplotlib.pyplot as plt\n",
    "\n",
    "plt.plot(epoch_acc)\n",
    "plt.plot(val_acc)\n",
    "plt.title('model accuracy')\n",
    "plt.ylabel('accuracy')\n",
    "plt.xlabel('epoch')\n",
    "plt.legend(['train', 'test'], loc='upper left')\n",
    "plt.show()"
   ]
  },
  {
   "cell_type": "code",
   "execution_count": 17,
   "metadata": {},
   "outputs": [
    {
     "data": {
      "image/png": "[encoded data removed]",
      "text/plain": [
       "<Figure size 432x288 with 1 Axes>"
      ]
     },
     "metadata": {
      "needs_background": "light"
     },
     "output_type": "display_data"
    }
   ],
   "source": [
    "plt.plot(epoch_loss)\n",
    "plt.plot(val_loss)\n",
    "plt.title('model loss')\n",
    "plt.ylabel('loss')\n",
    "plt.xlabel('epoch')\n",
    "plt.legend(['train', 'test'], loc='upper left')\n",
    "plt.show()"
   ]
  },
  {
   "cell_type": "markdown",
   "metadata": {},
   "source": [
    "## Prueba del modelo"
   ]
  },
  {
   "cell_type": "markdown",
   "metadata": {},
   "source": [
    "data = iter(test_loader)\n",
    "images, labels = data.next()\n",
    "show_image(torchvision.utils.make_grid(images))\n",
    "print('GroundTruth: ',''.join('%5s' % classes[labels[j]] for j in range(4)))"
   ]
  },
  {
   "cell_type": "code",
   "execution_count": 18,
   "metadata": {},
   "outputs": [],
   "source": [
    "for i, data in enumerate(test_loader, 0):\n",
    "    X, Y = data\n",
    "    X = X.to(device)\n",
    "    Y = Y.to(device)    \n",
    "    pred = net(X)\n",
    "    loss = loss_function(pred, Y)    \n",
    "    # running_loss += loss.item()\n",
    "    # avg_loss = running_loss/(i + 1)\n",
    "    probs = F.softmax(pred, 1)\n",
    "    label = torch.argmax(probs, dim=1)\n",
    "    correct = torch.sum(label == Y).item()\n",
    "    total = Y.shape[0]\n",
    "    acc = correct/total"
   ]
  },
  {
   "cell_type": "code",
   "execution_count": 19,
   "metadata": {},
   "outputs": [
    {
     "name": "stdout",
     "output_type": "stream",
     "text": [
      "accuracy: 0.6235, loss: 2.2128477096557617\n"
     ]
    }
   ],
   "source": [
    "print('accuracy: {}, loss: {}'.format(acc, loss))"
   ]
  },
  {
   "cell_type": "markdown",
   "metadata": {},
   "source": [
    "## ¿Pytorch, el framework del futuro?\n",
    "\n",
    "Muchos autores han sugerido que Pytorch es el framework del futuro, en lo personal, no se si es del futuro o representa un gran salto de los otros frameworks. A lo largo de este notebook expusimos varias ventajas del framework, notamos que simplifica muchas tareas que en otros frameworks como Keras eran muy repetitvos. La codifiación y uso de redes neuronales en Pytorch muestra de forma más explicita el uso de graficas computacionales, así como el proceso de backpropagation es más claro. \n",
    "\n",
    "Si bien la codificación no es tan simple como en Keras, es cierto que escribir código con Pytorch resulta muy Pytonico  y tiene muy buena integración con otras bibliotecas como veremos más adelante en *oxflower_pytorch.ipynb*.\n",
    "\n",
    "Las ventajas computacionales sobre otros frameworks y características que podemos mencionar son las siguientes:\n",
    "\n",
    "* Según los resultados del estudio [Deep Learning Frameworks Speed Comparison](https://wrosinski.github.io/deep-learning-frameworks/), se encontro que Pytorch resulto más rápido en varias tareas que Tensorflow. Se comparo el desempeño a partir de la implementación de varios modelos.\n",
    "\n",
    "* Uno de los razgos principales de Pytorch es el llamadao *declarative data parallelism*. Esto permite usar ``Pytorch.nn.DataParallel`` que puede envolver cualquier módulo. Esto permite hacer paralelizble el entrenamiento y hacer uso de varios GPUs.\n",
    "\n",
    "![Comparación de velocidad con Keras y Tensorflow](Comparison.png)\n"
   ]
  }
 ],
 "metadata": {
  "kernelspec": {
   "display_name": "Python 3",
   "language": "python",
   "name": "python3"
  },
  "language_info": {
   "codemirror_mode": {
    "name": "ipython",
    "version": 3
   },
   "file_extension": ".py",
   "mimetype": "text/x-python",
   "name": "python",
   "nbconvert_exporter": "python",
   "pygments_lexer": "ipython3",
   "version": "3.7.7"
  }
 },
 "nbformat": 4,
 "nbformat_minor": 4
}
