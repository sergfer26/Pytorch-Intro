{
 "cells": [
  {
   "cell_type": "markdown",
   "metadata": {
    "colab_type": "text",
    "id": "view-in-github"
   },
   "source": [
    "<a href=\"https://colab.research.google.com/github/sergfer26/Seminario-Deep-Reinforcement-Learning/blob/master/clase2/pytorch_basics.ipynb\" target=\"_parent\"><img src=\"https://colab.research.google.com/assets/colab-badge.svg\" alt=\"Open In Colab\"/></a>"
   ]
  },
  {
   "cell_type": "markdown",
   "metadata": {
    "colab_type": "text",
    "id": "Q9d92pFuwf-u"
   },
   "source": [
    "# Pytorch Basics\n",
    "\n",
    "El objetivo de este notebook será familiarizar al lector con las funciones de Pytorch que son:\n",
    "\n",
    "\n",
    "\n",
    "*   Crear tensores.\n",
    "*   Operar con tensores.\n",
    "*   Indexar, separar y unir tensores.\n",
    "*   Calcular gradientes con tensores.\n",
    "*   Usar tensores de CUDA con GPU.\n",
    "\n",
    "## Creación de Tensores\n",
    "\n",
    "Usaremos la biblioteca ``torch`` para crear tensores."
   ]
  },
  {
   "cell_type": "code",
   "execution_count": 0,
   "metadata": {
    "colab": {
     "base_uri": "https://localhost:8080/",
     "height": 104
    },
    "colab_type": "code",
    "id": "vCButo8hwcvu",
    "outputId": "9f2842ff-ba6c-47bd-f4a2-22bdf7d57c8a"
   },
   "outputs": [
    {
     "name": "stdout",
     "output_type": "stream",
     "text": [
      "Type: torch.FloatTensor\n",
      "Shape/size: torch.Size([2, 4])\n",
      "Values: \n",
      " tensor([[2.5028e-36, 0.0000e+00, 3.7835e-44, 0.0000e+00],\n",
      "        [       nan, 0.0000e+00, 1.3733e-14, 6.4069e+02]])\n"
     ]
    }
   ],
   "source": [
    "import torch\n",
    "import numpy as np\n",
    "\n",
    "def describe_tensor(x):\n",
    "  print(\"Type: {}\".format(x.type()))\n",
    "  print(\"Shape/size: {}\".format(x.shape))\n",
    "  print(\"Values: \\n {}\".format(x))\n",
    "\n",
    "x = torch.Tensor(2, 4)\n",
    "describe_tensor(x)"
   ]
  },
  {
   "cell_type": "markdown",
   "metadata": {
    "colab_type": "text",
    "id": "uqkuGfFu7tio"
   },
   "source": [
    "También podemos crear tensores cuyos valores sigan alguna distribución."
   ]
  },
  {
   "cell_type": "code",
   "execution_count": 0,
   "metadata": {
    "colab": {
     "base_uri": "https://localhost:8080/",
     "height": 364
    },
    "colab_type": "code",
    "id": "fBE5DDIzyuw2",
    "outputId": "66e70d6f-43cf-43bb-c281-1de6025ce792"
   },
   "outputs": [
    {
     "name": "stdout",
     "output_type": "stream",
     "text": [
      "Type: torch.FloatTensor\n",
      "Shape/size: torch.Size([2, 3, 4])\n",
      "Values: \n",
      " tensor([[[0.0950, 0.8365, 0.1956, 0.9311],\n",
      "         [0.3231, 0.7455, 0.3467, 0.4971],\n",
      "         [0.8818, 0.8474, 0.3964, 0.1161]],\n",
      "\n",
      "        [[0.4436, 0.4460, 0.4516, 0.2657],\n",
      "         [0.9675, 0.1839, 0.4705, 0.3259],\n",
      "         [0.6203, 0.2159, 0.7888, 0.5046]]])\n",
      "Type: torch.FloatTensor\n",
      "Shape/size: torch.Size([2, 3, 4])\n",
      "Values: \n",
      " tensor([[[ 0.0616, -0.5176, -0.5782, -0.1833],\n",
      "         [-0.7758,  0.0661,  0.4597, -0.5336],\n",
      "         [ 0.7803, -1.0326,  0.6920, -0.3225]],\n",
      "\n",
      "        [[-0.9201, -1.2559, -0.9215, -1.0630],\n",
      "         [-0.5460, -0.5802,  0.0663, -0.1143],\n",
      "         [-1.3410, -0.0222,  0.5675,  0.2889]]])\n"
     ]
    }
   ],
   "source": [
    "y = torch.rand(2, 3, 4) # Uniforme(0,1)\n",
    "describe_tensor(y)\n",
    "z = torch.randn(2, 3, 4) # Normal std\n",
    "describe_tensor(z)"
   ]
  },
  {
   "cell_type": "markdown",
   "metadata": {
    "colab_type": "text",
    "id": "ez5uO1ky8vFE"
   },
   "source": [
    "Más ejemplos."
   ]
  },
  {
   "cell_type": "code",
   "execution_count": 0,
   "metadata": {
    "colab": {
     "base_uri": "https://localhost:8080/",
     "height": 278
    },
    "colab_type": "code",
    "id": "CMRlCh_V8dgN",
    "outputId": "60a9a58a-c9d5-4a03-edbe-5dcf8ce2e55f"
   },
   "outputs": [
    {
     "name": "stdout",
     "output_type": "stream",
     "text": [
      "Type: torch.FloatTensor\n",
      "Shape/size: torch.Size([2, 3])\n",
      "Values: \n",
      " tensor([[0., 0., 0.],\n",
      "        [0., 0., 0.]])\n",
      "Type: torch.FloatTensor\n",
      "Shape/size: torch.Size([2, 3])\n",
      "Values: \n",
      " tensor([[1., 1., 1.],\n",
      "        [1., 1., 1.]])\n",
      "Type: torch.FloatTensor\n",
      "Shape/size: torch.Size([2, 3])\n",
      "Values: \n",
      " tensor([[5., 5., 5.],\n",
      "        [5., 5., 5.]])\n"
     ]
    }
   ],
   "source": [
    "describe_tensor(torch.zeros(2, 3))\n",
    "x = torch.ones(2, 3)\n",
    "describe_tensor(x)\n",
    "x.fill_(5)\n",
    "describe_tensor(x)"
   ]
  },
  {
   "cell_type": "markdown",
   "metadata": {
    "colab_type": "text",
    "id": "d7YYyqJ8E5yh"
   },
   "source": [
    "Ejemplos usando lista."
   ]
  },
  {
   "cell_type": "code",
   "execution_count": 0,
   "metadata": {
    "colab": {
     "base_uri": "https://localhost:8080/",
     "height": 121
    },
    "colab_type": "code",
    "id": "Sk90IBpAEvzl",
    "outputId": "ca7e4a23-327b-4bb0-bc73-5cda01f49ed9"
   },
   "outputs": [
    {
     "name": "stdout",
     "output_type": "stream",
     "text": [
      "Type: torch.FloatTensor\n",
      "Shape/size: torch.Size([3, 3])\n",
      "Values: \n",
      " tensor([[ 1.,  2.,  3.],\n",
      "        [ 5.,  6.,  7.],\n",
      "        [ 8.,  9., 10.]])\n"
     ]
    }
   ],
   "source": [
    "x = torch.Tensor([[1, 2, 3], \n",
    "                  [5, 6, 7],\n",
    "                  [8, 9, 10]])\n",
    "describe_tensor(x)"
   ]
  },
  {
   "cell_type": "markdown",
   "metadata": {
    "colab_type": "text",
    "id": "qU3hEazn0g2B"
   },
   "source": [
    "## Operaciones con Tensores\n",
    "\n",
    "\n",
    "\n",
    " ### Adición.\n",
    "\n"
   ]
  },
  {
   "cell_type": "code",
   "execution_count": 0,
   "metadata": {
    "colab": {
     "base_uri": "https://localhost:8080/",
     "height": 191
    },
    "colab_type": "code",
    "id": "3wuP6XYo0gDa",
    "outputId": "74bfca9a-7d9f-4791-8f22-4925fc89a7db"
   },
   "outputs": [
    {
     "name": "stdout",
     "output_type": "stream",
     "text": [
      "Type: torch.FloatTensor\n",
      "Shape/size: torch.Size([2, 3, 4])\n",
      "Values: \n",
      " tensor([[[ 0.1566,  0.3189, -0.3826,  0.7478],\n",
      "         [-0.4527,  0.8116,  0.8064, -0.0366],\n",
      "         [ 1.6621, -0.1851,  1.0884, -0.2064]],\n",
      "\n",
      "        [[-0.4764, -0.8099, -0.4699, -0.7973],\n",
      "         [ 0.4215, -0.3963,  0.5368,  0.2116],\n",
      "         [-0.7207,  0.1937,  1.3563,  0.7935]]])\n"
     ]
    }
   ],
   "source": [
    "w = torch.add(z, y)\n",
    "describe_tensor(w)"
   ]
  },
  {
   "cell_type": "markdown",
   "metadata": {
    "colab_type": "text",
    "id": "Uw0IUaq03zsB"
   },
   "source": [
    "\n",
    "\n",
    "### Redimencionamiento\n",
    "\n"
   ]
  },
  {
   "cell_type": "code",
   "execution_count": 0,
   "metadata": {
    "colab": {
     "base_uri": "https://localhost:8080/",
     "height": 86
    },
    "colab_type": "code",
    "id": "OQF8BPkcFVTP",
    "outputId": "3525036d-1bea-42e1-cd2c-857c1287ac6b"
   },
   "outputs": [
    {
     "name": "stdout",
     "output_type": "stream",
     "text": [
      "Type: torch.LongTensor\n",
      "Shape/size: torch.Size([6])\n",
      "Values: \n",
      " tensor([0, 1, 2, 3, 4, 5])\n"
     ]
    }
   ],
   "source": [
    "x = torch.arange(6)\n",
    "describe_tensor(x) "
   ]
  },
  {
   "cell_type": "code",
   "execution_count": 0,
   "metadata": {
    "colab": {
     "base_uri": "https://localhost:8080/",
     "height": 104
    },
    "colab_type": "code",
    "id": "DA6fwd1n4DTf",
    "outputId": "65ebccc6-fcd0-46fa-9615-26f95637b344"
   },
   "outputs": [
    {
     "name": "stdout",
     "output_type": "stream",
     "text": [
      "Type: torch.LongTensor\n",
      "Shape/size: torch.Size([2, 3])\n",
      "Values: \n",
      " tensor([[0, 1, 2],\n",
      "        [3, 4, 5]])\n"
     ]
    }
   ],
   "source": [
    "x = x.view(2,3)\n",
    "describe_tensor(x)"
   ]
  },
  {
   "cell_type": "code",
   "execution_count": 0,
   "metadata": {
    "colab": {
     "base_uri": "https://localhost:8080/",
     "height": 86
    },
    "colab_type": "code",
    "id": "TO7pTtIb4M6D",
    "outputId": "71f3105e-5459-45b8-d14f-fb3c195b683f"
   },
   "outputs": [
    {
     "name": "stdout",
     "output_type": "stream",
     "text": [
      "Type: torch.LongTensor\n",
      "Shape/size: torch.Size([3])\n",
      "Values: \n",
      " tensor([3, 5, 7])\n"
     ]
    }
   ],
   "source": [
    "describe_tensor(torch.sum(x, dim=0)) # suma por primer eje"
   ]
  },
  {
   "cell_type": "code",
   "execution_count": 0,
   "metadata": {
    "colab": {
     "base_uri": "https://localhost:8080/",
     "height": 86
    },
    "colab_type": "code",
    "id": "ErTXsaJk4cvf",
    "outputId": "42ee4ad5-ea21-4361-a515-d59097942a0f"
   },
   "outputs": [
    {
     "name": "stdout",
     "output_type": "stream",
     "text": [
      "Type: torch.LongTensor\n",
      "Shape/size: torch.Size([2])\n",
      "Values: \n",
      " tensor([ 3, 12])\n"
     ]
    }
   ],
   "source": [
    "describe_tensor(torch.sum(x, dim=1)) # suma por segundo eje"
   ]
  },
  {
   "cell_type": "code",
   "execution_count": 0,
   "metadata": {
    "colab": {
     "base_uri": "https://localhost:8080/",
     "height": 225
    },
    "colab_type": "code",
    "id": "wBsh7PKO47QO",
    "outputId": "74228de0-9665-447d-fdcc-9313512d743e"
   },
   "outputs": [
    {
     "name": "stdout",
     "output_type": "stream",
     "text": [
      "Type: torch.LongTensor\n",
      "Shape/size: torch.Size([8])\n",
      "Values: \n",
      " tensor([0, 1, 2, 3, 4, 5, 6, 7])\n",
      "Type: torch.LongTensor\n",
      "Shape/size: torch.Size([2, 2, 2])\n",
      "Values: \n",
      " tensor([[[0, 1],\n",
      "         [4, 5]],\n",
      "\n",
      "        [[2, 3],\n",
      "         [6, 7]]])\n"
     ]
    }
   ],
   "source": [
    "z = torch.arange(8)\n",
    "z = z.view(2,2,2)\n",
    "describe_tensor(z) #Transponer vectores\n",
    "describe_tensor(torch.transpose(z, 0, 1))"
   ]
  },
  {
   "cell_type": "markdown",
   "metadata": {
    "colab_type": "text",
    "id": "-twnBwt45lVF"
   },
   "source": [
    "\n",
    "\n",
    "### Indexación, separación y unión de tensores \n",
    "\n"
   ]
  },
  {
   "cell_type": "code",
   "execution_count": 0,
   "metadata": {
    "colab": {
     "base_uri": "https://localhost:8080/",
     "height": 86
    },
    "colab_type": "code",
    "id": "rxhwYP7R5Ity",
    "outputId": "b2aa1a96-4587-4a0c-ab07-2bbf50536e47"
   },
   "outputs": [
    {
     "name": "stdout",
     "output_type": "stream",
     "text": [
      "Type: torch.LongTensor\n",
      "Shape/size: torch.Size([1, 2])\n",
      "Values: \n",
      " tensor([[0, 1]])\n"
     ]
    }
   ],
   "source": [
    "describe_tensor(x[:1, :2])"
   ]
  },
  {
   "cell_type": "code",
   "execution_count": 0,
   "metadata": {
    "colab": {
     "base_uri": "https://localhost:8080/",
     "height": 86
    },
    "colab_type": "code",
    "id": "RninWz2V6MdQ",
    "outputId": "5cc6a6df-4ccd-4d12-8d9b-51dff27230ff"
   },
   "outputs": [
    {
     "name": "stdout",
     "output_type": "stream",
     "text": [
      "Type: torch.LongTensor\n",
      "Shape/size: torch.Size([])\n",
      "Values: \n",
      " 1\n"
     ]
    }
   ],
   "source": [
    "describe_tensor(x[0,1])"
   ]
  },
  {
   "cell_type": "code",
   "execution_count": 0,
   "metadata": {
    "colab": {
     "base_uri": "https://localhost:8080/",
     "height": 104
    },
    "colab_type": "code",
    "id": "tbFMOb7O6vwt",
    "outputId": "def6e085-5e9e-4b4e-c8de-8c94656be6b0"
   },
   "outputs": [
    {
     "name": "stdout",
     "output_type": "stream",
     "text": [
      "Type: torch.LongTensor\n",
      "Shape/size: torch.Size([2, 2])\n",
      "Values: \n",
      " tensor([[0, 2],\n",
      "        [3, 5]])\n"
     ]
    }
   ],
   "source": [
    "indices = torch.LongTensor([0, 2])\n",
    "describe_tensor(torch.index_select(x, dim=1, index=indices))"
   ]
  },
  {
   "cell_type": "code",
   "execution_count": 0,
   "metadata": {
    "colab": {
     "base_uri": "https://localhost:8080/",
     "height": 104
    },
    "colab_type": "code",
    "id": "pjtdO_T37J29",
    "outputId": "7f7c05a6-48c8-47a7-c3d5-230f7591d0a9"
   },
   "outputs": [
    {
     "name": "stdout",
     "output_type": "stream",
     "text": [
      "Type: torch.LongTensor\n",
      "Shape/size: torch.Size([2, 3])\n",
      "Values: \n",
      " tensor([[0, 1, 2],\n",
      "        [0, 1, 2]])\n"
     ]
    }
   ],
   "source": [
    "indices = torch.LongTensor([0, 0])\n",
    "describe_tensor(torch.index_select(x, dim=0, index=indices))"
   ]
  },
  {
   "cell_type": "code",
   "execution_count": 0,
   "metadata": {
    "colab": {
     "base_uri": "https://localhost:8080/",
     "height": 86
    },
    "colab_type": "code",
    "id": "CNdoOgjW7aVV",
    "outputId": "62a5f42a-3a2c-450b-8359-99427666e28b"
   },
   "outputs": [
    {
     "name": "stdout",
     "output_type": "stream",
     "text": [
      "Type: torch.LongTensor\n",
      "Shape/size: torch.Size([2])\n",
      "Values: \n",
      " tensor([0, 4])\n"
     ]
    }
   ],
   "source": [
    "r = torch.arange(2).long()\n",
    "c = torch.arange(2).long()\n",
    "describe_tensor(x[r, c])"
   ]
  },
  {
   "cell_type": "markdown",
   "metadata": {
    "colab_type": "text",
    "id": "SZcfLrWrD9m6"
   },
   "source": [
    "#### Concatenación "
   ]
  },
  {
   "cell_type": "code",
   "execution_count": 0,
   "metadata": {
    "colab": {
     "base_uri": "https://localhost:8080/",
     "height": 139
    },
    "colab_type": "code",
    "id": "E8saL_9y7jsG",
    "outputId": "a15e8fc8-0106-43c8-fce4-eb44758cd9ae"
   },
   "outputs": [
    {
     "name": "stdout",
     "output_type": "stream",
     "text": [
      "Type: torch.LongTensor\n",
      "Shape/size: torch.Size([4, 3])\n",
      "Values: \n",
      " tensor([[0, 1, 2],\n",
      "        [3, 4, 5],\n",
      "        [0, 1, 2],\n",
      "        [3, 4, 5]])\n"
     ]
    }
   ],
   "source": [
    "describe_tensor(torch.cat([x, x], dim=0))"
   ]
  },
  {
   "cell_type": "code",
   "execution_count": 0,
   "metadata": {
    "colab": {
     "base_uri": "https://localhost:8080/",
     "height": 104
    },
    "colab_type": "code",
    "id": "64OyZxGRELDw",
    "outputId": "dc2818c4-37c6-46e2-ac10-683e9dd58f58"
   },
   "outputs": [
    {
     "name": "stdout",
     "output_type": "stream",
     "text": [
      "Type: torch.LongTensor\n",
      "Shape/size: torch.Size([2, 6])\n",
      "Values: \n",
      " tensor([[0, 1, 2, 0, 1, 2],\n",
      "        [3, 4, 5, 3, 4, 5]])\n"
     ]
    }
   ],
   "source": [
    "describe_tensor(torch.cat([x, x], dim=1))"
   ]
  },
  {
   "cell_type": "markdown",
   "metadata": {
    "colab_type": "text",
    "id": "vXAJtSJCErkj"
   },
   "source": [
    "#### Apilamiento"
   ]
  },
  {
   "cell_type": "code",
   "execution_count": 0,
   "metadata": {
    "colab": {
     "base_uri": "https://localhost:8080/",
     "height": 156
    },
    "colab_type": "code",
    "id": "GQGMyjCZEW9T",
    "outputId": "59dc83b3-367a-4aab-d350-c2515a6dfc62"
   },
   "outputs": [
    {
     "name": "stdout",
     "output_type": "stream",
     "text": [
      "Type: torch.LongTensor\n",
      "Shape/size: torch.Size([2, 2, 3])\n",
      "Values: \n",
      " tensor([[[0, 1, 2],\n",
      "         [3, 4, 5]],\n",
      "\n",
      "        [[0, 1, 2],\n",
      "         [3, 4, 5]]])\n"
     ]
    }
   ],
   "source": [
    "describe_tensor(torch.stack([x, x]))"
   ]
  },
  {
   "cell_type": "markdown",
   "metadata": {
    "colab_type": "text",
    "id": "9aJnawh9FApE"
   },
   "source": [
    "### Multiplicación de tensores"
   ]
  },
  {
   "cell_type": "code",
   "execution_count": 0,
   "metadata": {
    "colab": {
     "base_uri": "https://localhost:8080/",
     "height": 121
    },
    "colab_type": "code",
    "id": "hagY3qcaEi2D",
    "outputId": "ca8e0c5c-715b-40b6-e575-a267a01950bf"
   },
   "outputs": [
    {
     "name": "stdout",
     "output_type": "stream",
     "text": [
      "Type: torch.FloatTensor\n",
      "Shape/size: torch.Size([3, 2])\n",
      "Values: \n",
      " tensor([[1., 2.],\n",
      "        [1., 2.],\n",
      "        [1., 2.]])\n"
     ]
    }
   ],
   "source": [
    "x = x.float()\n",
    "y = torch.ones(3,2)\n",
    "y[:, 1] += 1\n",
    "describe_tensor(y)"
   ]
  },
  {
   "cell_type": "code",
   "execution_count": 0,
   "metadata": {
    "colab": {
     "base_uri": "https://localhost:8080/",
     "height": 104
    },
    "colab_type": "code",
    "id": "GNleLooRFWGj",
    "outputId": "fde5a34f-0f10-4e4b-a9fe-747ffc7e7c10"
   },
   "outputs": [
    {
     "name": "stdout",
     "output_type": "stream",
     "text": [
      "Type: torch.FloatTensor\n",
      "Shape/size: torch.Size([2, 2])\n",
      "Values: \n",
      " tensor([[ 3.,  6.],\n",
      "        [12., 24.]])\n"
     ]
    }
   ],
   "source": [
    "describe_tensor(torch.mm(x, y))"
   ]
  },
  {
   "cell_type": "markdown",
   "metadata": {
    "colab_type": "text",
    "id": "4b7FBxVfF57V"
   },
   "source": [
    "### Tensores y graficas computacionales\n",
    "\n",
    "Hasta ahora hemos visto que los tensores de ``Pytorch`` encapusalan  información numérica que es posible manipular a través de operaciones algebraicas, de indexación y de reescalamiento. Pero requerimos de una herramienta que nos permita saber que valores corresponden a los parámetros y posteriormente calcular su gradiente. Para lo anterior usaremos la bandera ``requieres_grad`` que si tiene como valor ``True`` en algún tensor, podremos rastrear el tensor y calcular su gradiente."
   ]
  },
  {
   "cell_type": "code",
   "execution_count": 0,
   "metadata": {
    "colab": {
     "base_uri": "https://localhost:8080/",
     "height": 121
    },
    "colab_type": "code",
    "id": "GiJeQKFZFcfm",
    "outputId": "56b7ee29-0ec2-4304-b721-790ff3d1dc6a"
   },
   "outputs": [
    {
     "name": "stdout",
     "output_type": "stream",
     "text": [
      "Type: torch.FloatTensor\n",
      "Shape/size: torch.Size([2, 2])\n",
      "Values: \n",
      " tensor([[1., 1.],\n",
      "        [1., 1.]], requires_grad=True)\n",
      "True\n"
     ]
    }
   ],
   "source": [
    "x = torch.ones(2,2, requires_grad=True)\n",
    "describe_tensor(x)\n",
    "print(x.grad is None)"
   ]
  },
  {
   "cell_type": "code",
   "execution_count": 0,
   "metadata": {
    "colab": {
     "base_uri": "https://localhost:8080/",
     "height": 121
    },
    "colab_type": "code",
    "id": "M4gAhPJgJXbe",
    "outputId": "44ead6a0-b230-4af7-cce2-9806c5d9d18e"
   },
   "outputs": [
    {
     "name": "stdout",
     "output_type": "stream",
     "text": [
      "Type: torch.FloatTensor\n",
      "Shape/size: torch.Size([2, 2])\n",
      "Values: \n",
      " tensor([[21., 21.],\n",
      "        [21., 21.]], grad_fn=<AddBackward0>)\n",
      "True\n"
     ]
    }
   ],
   "source": [
    "y =(x + 2)*(x + 5) + 3\n",
    "describe_tensor(y)\n",
    "print(x.grad is None)"
   ]
  },
  {
   "cell_type": "code",
   "execution_count": 0,
   "metadata": {
    "colab": {
     "base_uri": "https://localhost:8080/",
     "height": 121
    },
    "colab_type": "code",
    "id": "dfZ4E8MvJxxh",
    "outputId": "433f89c3-40f1-498e-9793-0d2fa81ffbf9"
   },
   "outputs": [
    {
     "name": "stdout",
     "output_type": "stream",
     "text": [
      "Type: torch.FloatTensor\n",
      "Shape/size: torch.Size([])\n",
      "Values: \n",
      " 21.0\n"
     ]
    },
    {
     "data": {
      "text/plain": [
       "tensor([[2.2500, 2.2500],\n",
       "        [2.2500, 2.2500]])"
      ]
     },
     "execution_count": 72,
     "metadata": {
      "tags": []
     },
     "output_type": "execute_result"
    }
   ],
   "source": [
    "z = y.mean()\n",
    "describe_tensor(z)\n",
    "z.backward()\n",
    "# print(x.grad is None)\n",
    "x.grad"
   ]
  },
  {
   "cell_type": "markdown",
   "metadata": {
    "colab_type": "text",
    "id": "SC-uN_eRK056"
   },
   "source": [
    "El método ``backward()`` calcula el valor del gradiente para un tensor donde la variable es un tensor definido anteriormente (en nuestro caso ``x``). Podemos pensar que lo que se esta calculando es su contrubución a la función de salida.\n",
    "\n",
    "En Pytorch acceder a los gradientes de cada nodo de la gráfica computacional al usar ``.grad``. Los optimizadores usan ``.grad`` para actualizar los valores de los parámetros. "
   ]
  },
  {
   "cell_type": "markdown",
   "metadata": {
    "colab_type": "text",
    "id": "ev_SG2lVUR7o"
   },
   "source": [
    "## Tensores CUDA"
   ]
  },
  {
   "cell_type": "code",
   "execution_count": 0,
   "metadata": {
    "colab": {
     "base_uri": "https://localhost:8080/",
     "height": 34
    },
    "colab_type": "code",
    "id": "JRJQRVVhKL2w",
    "outputId": "ee824f53-55d9-43ba-aa5e-c29da759de78"
   },
   "outputs": [
    {
     "name": "stdout",
     "output_type": "stream",
     "text": [
      "False\n"
     ]
    }
   ],
   "source": [
    "print(torch.cuda.is_available())"
   ]
  },
  {
   "cell_type": "code",
   "execution_count": 0,
   "metadata": {
    "colab": {},
    "colab_type": "code",
    "id": "UXZNZVqkU2yC"
   },
   "outputs": [],
   "source": []
  }
 ],
 "metadata": {
  "colab": {
   "include_colab_link": true,
   "name": "pytorch_basics",
   "provenance": []
  },
  "kernelspec": {
   "display_name": "Python 3",
   "language": "python",
   "name": "python3"
  },
  "language_info": {
   "codemirror_mode": {
    "name": "ipython",
    "version": 3
   },
   "file_extension": ".py",
   "mimetype": "text/x-python",
   "name": "python",
   "nbconvert_exporter": "python",
   "pygments_lexer": "ipython3",
   "version": "3.7.7"
  }
 },
 "nbformat": 4,
 "nbformat_minor": 1
}
